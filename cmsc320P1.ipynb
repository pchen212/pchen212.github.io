{
 "cells": [
  {
   "cell_type": "markdown",
   "metadata": {},
   "source": [
    "# Part1 - Step 1"
   ]
  },
  {
   "cell_type": "code",
   "execution_count": 779,
   "metadata": {
    "collapsed": false,
    "scrolled": false
   },
   "outputs": [
    {
     "name": "stdout",
     "output_type": "stream",
     "text": [
      "    rank x_class        date region start_time max_time end_time  \\\n",
      "1      1   X28.0  2003/11/04   0486      19:29    19:53    20:06   \n",
      "2      2     X20  2001/04/02   9393      21:32    21:51    22:03   \n",
      "3      3   X17.2  2003/10/28   0486      09:51    11:10    11:24   \n",
      "4      4   X17.0  2005/09/07   0808      17:17    17:40    18:03   \n",
      "5      5   X14.4  2001/04/15   9415      13:19    13:50    13:55   \n",
      "6      6   X10.0  2003/10/29   0486      20:37    20:49    21:01   \n",
      "7      7    X9.4  1997/11/06      -      11:49    11:55    12:01   \n",
      "8      8    X9.0  2006/12/05   0930      10:18    10:35    10:45   \n",
      "9      9    X8.3  2003/11/02   0486      17:03    17:25    17:39   \n",
      "10    10    X7.1  2005/01/20   0720      06:36    07:01    07:26   \n",
      "\n",
      "                movie  \n",
      "1   MovieView archive  \n",
      "2   MovieView archive  \n",
      "3   MovieView archive  \n",
      "4   MovieView archive  \n",
      "5   MovieView archive  \n",
      "6   MovieView archive  \n",
      "7   MovieView archive  \n",
      "8   MovieView archive  \n",
      "9   MovieView archive  \n",
      "10  MovieView archive  \n"
     ]
    }
   ],
   "source": [
    "import requests\n",
    "from bs4 import BeautifulSoup\n",
    "import pandas as pd\n",
    "import numpy as np\n",
    "#pd.set_option('expand_frame_repr', True)\n",
    "\n",
    "r = requests.get('https://www.spaceweatherlive.com/en/solar-activity/top-50-solar-flares')\n",
    "parse = BeautifulSoup(r.text, 'html5lib')\n",
    "table = parse.find('table')\n",
    "htmlTableString = str(table)\n",
    "result = pd.read_html(htmlTableString, header=None)[0]\n",
    "result.columns = ['rank', 'x_class', 'date', 'region', 'start_time', 'max_time', 'end_time','movie']\n",
    "result.index = result.index + 1\n",
    "print(result.head(10))"
   ]
  },
  {
   "cell_type": "markdown",
   "metadata": {},
   "source": [
    "1. Use requests.get to get the Url.\n",
    "2. Use BeautifulSoup to parse the url as HTML.\n",
    "3. Find the first table in the from the HTML which is the one I needed.\n",
    "4. Turned the parsed table object into string then use pd.read_html to turn it into a DataFrame.\n",
    "5. Set correct headers for the DataFrame.\n",
    "6. Increased the index by 1 so It starts at 1 instead of 0.\n",
    "7. Print out the first 10 rows of the DataFrame."
   ]
  },
  {
   "cell_type": "markdown",
   "metadata": {
    "collapsed": true
   },
   "source": [
    "# Part 1 - Step 2"
   ]
  },
  {
   "cell_type": "code",
   "execution_count": 780,
   "metadata": {
    "collapsed": false
   },
   "outputs": [
    {
     "name": "stdout",
     "output_type": "stream",
     "text": [
      "    rank x_class      start_datetime        max_datetime        end_datetime  \\\n",
      "1      1   X28.0 2003-11-04 19:29:00 2003-11-04 19:53:00 2003-11-04 20:06:00   \n",
      "2      2     X20 2001-04-02 21:32:00 2001-04-02 21:51:00 2001-04-02 22:03:00   \n",
      "3      3   X17.2 2003-10-28 09:51:00 2003-10-28 11:10:00 2003-10-28 11:24:00   \n",
      "4      4   X17.0 2005-09-07 17:17:00 2005-09-07 17:40:00 2005-09-07 18:03:00   \n",
      "5      5   X14.4 2001-04-15 13:19:00 2001-04-15 13:50:00 2001-04-15 13:55:00   \n",
      "6      6   X10.0 2003-10-29 20:37:00 2003-10-29 20:49:00 2003-10-29 21:01:00   \n",
      "7      7    X9.4 1997-11-06 11:49:00 1997-11-06 11:55:00 1997-11-06 12:01:00   \n",
      "8      8    X9.0 2006-12-05 10:18:00 2006-12-05 10:35:00 2006-12-05 10:45:00   \n",
      "9      9    X8.3 2003-11-02 17:03:00 2003-11-02 17:25:00 2003-11-02 17:39:00   \n",
      "10    10    X7.1 2005-01-20 06:36:00 2005-01-20 07:01:00 2005-01-20 07:26:00   \n",
      "\n",
      "   region  \n",
      "1    0486  \n",
      "2    9393  \n",
      "3    0486  \n",
      "4    0808  \n",
      "5    9415  \n",
      "6    0486  \n",
      "7     NaN  \n",
      "8    0930  \n",
      "9    0486  \n",
      "10   0720  \n"
     ]
    }
   ],
   "source": [
    "import datetime \n",
    "result.drop('movie', axis=1, inplace= True)\n",
    "result = result[['rank', 'x_class', 'date', 'start_time', 'max_time', 'end_time', 'region']]\n",
    "\n",
    "for index, row in result.iterrows():\n",
    "    \n",
    "    start_datetime = datetime.datetime.strptime(row['date']+\"-\"+row['start_time'], '%Y/%m/%d-%H:%M')\n",
    "    max_datetime = datetime.datetime.strptime(row['date']+\"-\"+row['max_time'], '%Y/%m/%d-%H:%M')\n",
    "    end_datetime = datetime.datetime.strptime(row['date']+\"-\"+row['end_time'], '%Y/%m/%d-%H:%M')\n",
    "    \n",
    "    result.set_value(index, 'start_time', start_datetime)\n",
    "    result.set_value(index, 'max_time', max_datetime)\n",
    "    result.set_value(index, 'end_time', end_datetime)\n",
    "    \n",
    "new_result = result.drop('date', axis=1)\n",
    "new_result.columns = ['rank', 'x_class', 'start_datetime', 'max_datetime', 'end_datetime', 'region']\n",
    "new_result.replace('-',np.nan, inplace=True)\n",
    "p2result = new_result\n",
    "print(new_result.head(10))"
   ]
  },
  {
   "cell_type": "markdown",
   "metadata": {},
   "source": [
    "1. Used drop to removed the last column 'movie'.\n",
    "2. Moved region, making it the last column.\n",
    "3. Iterate through all the rows and combining the date and time and inserting them to their correct column.\n",
    "4. After date and time are combined, remove the original 'date' column.\n",
    "5. Rename the column headers to appropriate names.\n",
    "6. Replace non-numberic inputs with 'NaN'."
   ]
  },
  {
   "cell_type": "markdown",
   "metadata": {},
   "source": [
    "# Part1 - Step 3"
   ]
  },
  {
   "cell_type": "code",
   "execution_count": 781,
   "metadata": {
    "collapsed": false
   },
   "outputs": [
    {
     "name": "stdout",
     "output_type": "stream",
     "text": [
      "    start_date start_time end_date end_time start_frequency end_frequency  \\\n",
      "1   1997/04/01      14:00    04/01    14:15            8000          4000   \n",
      "2   1997/04/07      14:30    04/07    17:30           11000          1000   \n",
      "3   1997/05/12      05:15    05/14    16:00           12000            80   \n",
      "4   1997/05/21      20:20    05/21    22:00            5000           500   \n",
      "5   1997/09/23      21:53    09/23    22:16            6000          2000   \n",
      "6   1997/11/03      05:15    11/03    12:00           14000           250   \n",
      "7   1997/11/03      10:30    11/03    11:30           14000          5000   \n",
      "8   1997/11/04      06:00    11/05    04:30           14000           100   \n",
      "9   1997/11/06      12:20    11/07    08:30           14000           100   \n",
      "10  1997/11/27      13:30    11/27    14:00           14000          7000   \n",
      "\n",
      "   flare_location flare_region flare_classification cme_date cme_time  \\\n",
      "1          S25E16         8026                 M1.3    04/01    15:18   \n",
      "2          S28E19         8027                 C6.8    04/07    14:27   \n",
      "3          N21W08         8038                 C1.3    05/12    05:30   \n",
      "4          N05W12         8040                 M1.3    05/21    21:00   \n",
      "5          S29E25         8088                 C1.4    09/23    22:02   \n",
      "6          S20W13         8100                 C8.6    11/03    05:28   \n",
      "7          S16W21         8100                 M4.2    11/03    11:11   \n",
      "8          S14W33         8100                 X2.1    11/04    06:10   \n",
      "9          S18W63         8100                 X9.4    11/06    12:10   \n",
      "10         N17E63         8113                 X2.6    11/27    13:56   \n",
      "\n",
      "   cme_angle cme_width cme_speed  \n",
      "1         74        79       312  \n",
      "2       Halo       360       878  \n",
      "3       Halo       360       464  \n",
      "4        263       165       296  \n",
      "5        133       155       712  \n",
      "6        240       109       227  \n",
      "7        233       122       352  \n",
      "8       Halo       360       785  \n",
      "9       Halo       360      1556  \n",
      "10        98        91       441  \n"
     ]
    }
   ],
   "source": [
    "r = requests.get('http://www.hcbravo.org/IntroDataSci/misc/waves_type2.html')\n",
    "parse = BeautifulSoup(r.text, 'html5lib')\n",
    "parse_str = str(parse.find('pre').get_text())\n",
    "data = parse_str.split(\"\\n\")\n",
    "del data[:11]\n",
    "data = data[:-3]\n",
    "\n",
    "split_data = []\n",
    "for e in data:\n",
    "    e = str(e).split()\n",
    "    e = e[:14]\n",
    "    split_data.append(e)\n",
    "\n",
    "result = pd.DataFrame.from_dict(split_data)\n",
    "result.columns = ['start_date', 'start_time', 'end_date', 'end_time', 'start_frequency', \n",
    "                  'end_frequency', 'flare_location', 'flare_region', 'flare_classification', \n",
    "                  'cme_date', 'cme_time', 'cme_angle', 'cme_width', 'cme_speed']\n",
    "result.index = result.index + 1\n",
    "print(result.head(10))"
   ]
  },
  {
   "cell_type": "markdown",
   "metadata": {},
   "source": [
    "1. Use request to get the URL, then parse it using BeautifulSoup.\n",
    "2. Find the 'pre' tag and convert it to a string.\n",
    "3. Parse the string by each new line element, then remove the first 11 lines and the last 3 lines (Not needed).\n",
    "4. Now that all the data I want is in a list format, I loop through and the split them into list of lists containing a all the data I need.\n",
    "5. Use DataFrame fucntion to turn my List of lists into a DataFrame, then name the header to its proper name.\n",
    "6. Increase the index by one so it starts from 1 instead of 0."
   ]
  },
  {
   "cell_type": "markdown",
   "metadata": {},
   "source": [
    "# Part 1 - Step 4"
   ]
  },
  {
   "cell_type": "code",
   "execution_count": 782,
   "metadata": {
    "collapsed": false
   },
   "outputs": [
    {
     "name": "stdout",
     "output_type": "stream",
     "text": [
      "        start_datetime         end_datetime start_frequency end_frequency  \\\n",
      "1  1997-04-01 14:00:00  1997-04-01 14:15:00            8000          4000   \n",
      "2  1997-04-07 14:30:00  1997-04-07 17:30:00           11000          1000   \n",
      "3  1997-05-12 05:15:00  1997-05-14 16:00:00           12000            80   \n",
      "4  1997-05-21 20:20:00  1997-05-21 22:00:00            5000           500   \n",
      "5  1997-09-23 21:53:00  1997-09-23 22:16:00            6000          2000   \n",
      "6  1997-11-03 05:15:00  1997-11-03 12:00:00           14000           250   \n",
      "\n",
      "  flare_location flare_region flare_classification         cme_datetime  \\\n",
      "1         S25E16         8026                 M1.3  1997-04-01 15:18:00   \n",
      "2         S28E19         8027                 C6.8  1997-04-07 14:27:00   \n",
      "3         N21W08         8038                 C1.3  1997-05-12 05:30:00   \n",
      "4         N05W12         8040                 M1.3  1997-05-21 21:00:00   \n",
      "5         S29E25         8088                 C1.4  1997-09-23 22:02:00   \n",
      "6         S20W13         8100                 C8.6  1997-11-03 05:28:00   \n",
      "\n",
      "  cme_angle cme_width cme_speed is_halo width_lower_bound  \n",
      "1        74        79       312   False             False  \n",
      "2       NaN       360       878    True             False  \n",
      "3       NaN       360       464    True             False  \n",
      "4       263       165       296   False             False  \n",
      "5       133       155       712   False             False  \n",
      "6       240       109       227   False             False  \n"
     ]
    }
   ],
   "source": [
    "result.replace({'????': np.nan},inplace=True)\n",
    "result.replace({'-----': np.nan},inplace=True)\n",
    "result.replace({'----': np.nan},inplace=True)\n",
    "result.replace({'EP': np.nan},inplace=True)\n",
    "result.replace({'DIM': np.nan},inplace=True)\n",
    "result.replace({'DSF': np.nan},inplace=True)\n",
    "result.replace({'FILA': np.nan},inplace=True)\n",
    "result.replace({'--/--': np.nan},inplace=True)\n",
    "result.replace({'--:--': np.nan},inplace=True)\n",
    "result.replace({'------': np.nan},inplace=True)\n",
    "result.replace({'Back': np.nan},inplace=True)\n",
    "result.replace({'BACK': np.nan},inplace=True)\n",
    "result.replace({'---': np.nan},inplace=True)\n",
    "result.replace({'EP?': np.nan},inplace=True)\n",
    "result.replace({'Back?': np.nan},inplace=True)\n",
    "result.replace({'altr': np.nan},inplace=True)\n",
    "\n",
    "result['end_date'] = pd.to_datetime(result['end_date'],format=\"%m/%d\")\n",
    "result['cme_date'] = pd.to_datetime(result['cme_date'],format=\"%m/%d\")\n",
    "\n",
    "result['is_halo'] = 'False'\n",
    "result['width_lower_bound'] = 'False'\n",
    "\n",
    "for index, row in result.iterrows():\n",
    "    if (row['cme_angle'] == 'Halo'):\n",
    "        result.set_value(index,'cme_angle',np.nan)\n",
    "        result.set_value(index,'is_halo','True')\n",
    "    if ('>' in str(row['cme_width'])):\n",
    "        result.set_value(index,'width_lower_bound','True')\n",
    "        row['cme_width'] = row['cme_width'].strip('>')\n",
    "    if ('24:00' in str(row['cme_time'])):\n",
    "        result.set_value(index,'cme_time','00:00')\n",
    "        result.set_value(index,'cme_date', row['cme_date'] + datetime.timedelta(days=1))\n",
    "    if ('24:00' in str(row['end_time'])):\n",
    "        result.set_value(index,'end_time','00:00')\n",
    "        result.set_value(index,'end_date', row['end_date'] + datetime.timedelta(days=1))\n",
    "        \n",
    "for index, row in result.iterrows():\n",
    "    \n",
    "    year = datetime.datetime.strptime(row['start_date'],'%Y/%m/%d')\n",
    "    year = year.year\n",
    "    \n",
    "    end = row['end_date']\n",
    "    cme = row['cme_date']\n",
    "\n",
    "    start_datetime = datetime.datetime.strptime(row['start_date']+'/'+row['start_time'], '%Y/%m/%d/%H:%M')  \n",
    "    end_datetime = datetime.datetime.strptime(str(year)+'/'+str(end.month)+'/'+str(end.day)+'/'+row['end_time'], \n",
    "                                              '%Y/%m/%d/%H:%M')\n",
    "    try:\n",
    "        cme_datetime = datetime.datetime.strptime(str(year)+'/'+str(cme.month)+'/'+str(cme.day)+'/'+row['cme_time'],\n",
    "                                                  '%Y/%m/%d/%H:%M')\n",
    "    except:\n",
    "        result.set_value(index, 'cme_time', np.nan)\n",
    "    \n",
    "    result.set_value(index, 'start_time', start_datetime)\n",
    "    result.set_value(index, 'end_time', end_datetime)\n",
    "    result.set_value(index, 'cme_time', cme_datetime)\n",
    "\n",
    "new_result = result.drop(['start_date', 'end_date', 'cme_date'], axis=1)\n",
    "new_result.columns = ['start_datetime', 'end_datetime', 'start_frequency', 'end_frequency', 'flare_location', \n",
    "                      'flare_region', 'flare_classification', 'cme_datetime', 'cme_angle', 'cme_width', 'cme_speed', \n",
    "                      'is_halo', 'width_lower_bound']\n",
    "print(new_result.head(6))"
   ]
  },
  {
   "cell_type": "markdown",
   "metadata": {},
   "source": [
    "1. Replace all missing entries with 'NaN' using the replace fucntion.\n",
    "2. Change the type of 'end_date' and 'cme_date' to datetime.\n",
    "3. Create new columns named 'is_halo' and 'width_lower_bound and set all entries to False.\n",
    "4. Loop through all the rows to check if 'cme_angle' is halo, if so change it to 'NaN' and set 'is_halo' to True.\n",
    "5. Check if cme_width is lower bound, if so remove '>' and set 'width_lower_bound' to True.\n",
    "6. Check 'end_time' and \"cme_time' to see if they are '24:00' if so change them to '00:00' and add one day to the date.\n",
    "7. Loop through the rows again to combine all the date and time.\n",
    "8. Drop unnecessary columns and rename all the headers to correct name."
   ]
  },
  {
   "cell_type": "markdown",
   "metadata": {
    "collapsed": true
   },
   "source": [
    "# Part 2 - Question 1"
   ]
  },
  {
   "cell_type": "code",
   "execution_count": 783,
   "metadata": {
    "collapsed": false
   },
   "outputs": [
    {
     "name": "stdout",
     "output_type": "stream",
     "text": [
      "   x_class      start_datetime        max_datetime        end_datetime region\n",
      "1    X28.0 2003-11-04 20:00:00 2003-11-04 19:54:00 2003-11-05 00:00:00   0486\n",
      "2    X20.0 2001-04-02 22:05:00 2001-04-02 22:06:00 2001-04-03 02:30:00   9393\n",
      "3    X17.0 2003-10-28 11:10:00 2003-10-28 11:30:00 2003-10-30 00:00:00   0486\n",
      "4    X14.0 2001-04-15 14:05:00 2001-04-15 14:06:00 2001-04-16 13:00:00   9415\n",
      "5    X10.0 2003-10-29 20:55:00 2003-10-29 20:54:00 2003-10-30 00:00:00   0486\n",
      "6     X9.4 1997-11-06 12:20:00 1997-11-06 12:10:00 1997-11-07 08:30:00   8100\n",
      "7     X9.0 2006-12-05 10:50:00 2006-11-06 17:54:00 2006-12-05 20:00:00   0930\n",
      "8     X8.3 2003-11-02 17:30:00 2003-11-02 17:30:00 2003-11-03 01:00:00   0486\n",
      "9     X7.1 2005-01-20 07:15:00 2005-01-20 06:54:00 2005-01-20 16:30:00   0720\n",
      "10    X6.9 2011-08-09 08:20:00 2011-08-09 08:12:00 2011-08-09 08:35:00   1263\n",
      "11    X6.5 2006-12-06 19:00:00 2006-11-06 17:54:00 2006-12-09 00:00:00   0930\n",
      "12    X6.2 2005-09-09 19:45:00 2005-09-09 19:48:00 2005-09-09 22:00:00   0808\n",
      "13    X5.7 2000-07-14 10:30:00 2000-07-14 10:54:00 2000-07-15 14:30:00   9077\n",
      "14    X5.6 2001-04-06 19:35:00 2001-04-06 19:30:00 2001-04-07 01:50:00   9415\n",
      "15    X5.4 2012-03-07 01:00:00 2012-03-07 00:24:00 2012-03-08 19:00:00   1429\n",
      "16    X5.3 2001-08-25 16:50:00 2001-08-25 16:50:00 2001-08-25 23:00:00   9591\n",
      "17    X4.9 2014-02-25 00:56:00 2014-02-25 01:25:00 2014-02-25 11:28:00   1990\n",
      "18    X4.8 2002-07-23 00:50:00 2002-07-23 00:42:00 2002-07-23 04:00:00   0039\n",
      "19    X4.0 2000-11-26 17:00:00 2000-11-26 17:06:00 2000-11-26 17:15:00   9236\n",
      "20    X3.9 2003-11-03 10:00:00 2003-11-03 10:06:00 2003-11-03 12:30:00   0488\n",
      "21    X3.8 2005-01-17 10:00:00 2005-01-17 09:54:00 2005-01-17 10:35:00   0720\n",
      "22    X3.6 2003-05-28 01:00:00 2003-05-28 00:50:00 2003-05-29 00:30:00   0365\n",
      "23    X3.4 2001-12-28 20:35:00 2001-12-28 20:30:00 2001-12-29 03:00:00   9756\n",
      "24    X3.4 2006-12-13 02:45:00 2006-12-13 02:54:00 2006-12-13 10:40:00   0930\n",
      "25    X3.3 2002-07-20 21:30:00 2002-07-20 22:06:00 2002-07-20 22:20:00   0039\n",
      "26    X3.2 2013-05-14 01:16:00 2013-05-14 01:25:00 2013-05-14 02:35:00   1748\n",
      "27    X3.1 2002-08-24 01:45:00 2002-08-24 01:27:00 2002-08-24 03:25:00   0069\n",
      "28    X2.8 2013-05-13 16:15:00 2013-05-13 16:07:00 2013-05-13 19:10:00   1748\n",
      "29    X2.7 1998-05-06 08:25:00 1998-05-06 08:29:00 1998-05-06 08:35:00   8210\n",
      "30    X2.7 2003-11-03 01:15:00 2003-11-03 01:59:00 2003-11-03 01:25:00   0488\n",
      "31    X2.6 1997-11-27 13:30:00 1997-11-27 13:56:00 1997-11-27 14:00:00   8113\n",
      "32    X2.6 2001-09-24 10:45:00 2001-09-24 10:30:00 2001-09-25 20:00:00   9632\n",
      "33    X2.6 2005-01-15 23:00:00 2005-01-15 23:06:00 2005-01-15 00:00:00   0720\n",
      "34    X2.5 2004-11-10 02:25:00 2004-11-10 02:26:00 2004-11-10 03:40:00   0696\n",
      "35    X2.3 2000-06-06 15:20:00 2000-06-06 15:54:00 2000-06-08 09:00:00   9026\n",
      "36    X2.3 2000-11-24 15:25:00 2000-11-24 15:30:00 2000-11-24 22:00:00   9236\n",
      "37    X2.3 2001-04-10 05:24:00 2001-04-10 05:30:00 2001-04-11 00:00:00   9415\n",
      "38    X2.2 2011-02-15 02:10:00 2011-02-15 02:24:00 2011-02-15 07:00:00   1158\n",
      "39    X2.1 1997-11-04 06:00:00 1997-11-04 06:10:00 1997-11-05 04:30:00   8100\n",
      "40    X2.1 2005-09-10 21:45:00 2005-09-10 21:52:00 2005-09-10 01:00:00   0808\n",
      "41    X2.1 2011-09-06 22:30:00 2011-09-06 23:05:00 2011-09-07 15:40:00   1283\n",
      "42    X2.1 2013-10-25 15:08:00 2013-10-25 15:12:00 2013-10-25 22:32:00   1882\n",
      "43    X2.0 2000-11-24 05:10:00 2000-11-24 05:30:00 2000-11-24 15:00:00   9236\n",
      "44    X2.0 2001-04-12 10:20:00 2001-04-12 10:31:00 2001-04-12 10:40:00   9415\n",
      "45    X2.0 2004-11-07 16:25:00 2004-11-07 16:54:00 2004-11-08 20:00:00   0696\n",
      "46    X2.0 2005-01-17 09:25:00 2005-01-17 09:30:00 2005-01-17 16:00:00   0720\n",
      "47    X1.9 2000-11-25 19:00:00 2000-11-25 19:31:00 2000-11-25 19:35:00   9236\n",
      "48    X1.8 1999-10-14 09:10:00 1999-10-14 09:26:00 1999-10-14 10:00:00   8731\n",
      "49    X1.8 2000-11-24 22:24:00 2000-11-24 22:06:00 2000-11-24 22:36:00   9236\n",
      "50    X1.8 2002-07-18 07:55:00 2002-07-18 08:06:00 2002-07-18 08:45:00   0030\n"
     ]
    }
   ],
   "source": [
    "rep_table = new_result.loc[new_result['flare_classification'] != np.nan].copy()\n",
    "rep_table['letter'] = rep_table['flare_classification'].str[0:1]\n",
    "rep_table['number'] = rep_table['flare_classification'].str[1:]\n",
    "rep_table['number'] = rep_table['number'].astype(float)\n",
    "\n",
    "rep_table.sort_values(['letter', 'number'], ascending=[False,False], inplace=True)\n",
    "\n",
    "for index, row in rep_table.iterrows():\n",
    "    if ((not row['letter'] == np.nan) and (not row['number'] == np.nan)):\n",
    "        rep_table.set_value(index, 'flare_classification', (str(row['letter'])+str(row['number'])))\n",
    "    \n",
    "for index, row in rep_table.iterrows():\n",
    "    try:\n",
    "        int(row['flare_region'])\n",
    "        if (int(row['flare_region']) > 9999):\n",
    "            rep_table.set_value(index, 'flare_region', row['flare_region'][-4:])\n",
    "    except:\n",
    "        pass\n",
    "\n",
    "#copy for question 3 plot\n",
    "NASA_Plot = rep_table.copy()    \n",
    "\n",
    "rep_table = rep_table.drop(['start_frequency','end_frequency','flare_location',\n",
    "                'cme_angle','cme_width','cme_speed','is_halo','width_lower_bound','letter','number'], axis=1)\n",
    "\n",
    "rep_table = rep_table[['flare_classification', 'start_datetime', 'cme_datetime', 'end_datetime','flare_region']]\n",
    "rep_table.columns = ['x_class', 'start_datetime', 'max_datetime', 'end_datetime', 'region']\n",
    "\n",
    "rep_table['start_datetime'] =  pd.to_datetime(rep_table['start_datetime'], format='%Y-%m-%d %H-%M-%S')\n",
    "rep_table['max_datetime'] =  pd.to_datetime(rep_table['max_datetime'], format='%Y-%m-%d %H-%M-%S')\n",
    "rep_table['end_datetime'] =  pd.to_datetime(rep_table['end_datetime'], format='%Y-%m-%d %H-%M-%S')\n",
    "\n",
    "rep_table.reset_index(drop=True, inplace=True)\n",
    "rep_table.index = rep_table.index + 1\n",
    "print(rep_table.head(50))"
   ]
  },
  {
   "cell_type": "markdown",
   "metadata": {
    "collapsed": false
   },
   "source": [
    "With the information from NASA I was able to create a table that looks similar to the one on 'SpaceWeatherLive.com' but not exactly. It seem that the data from NASA is missing some infromatinos that 'SpaceWeatherLive.com' has. Also that a lot of the start, max, and end time does not match up exactly. Lastly some of the classification on NASA are not as exact as the ones on 'SpaceWeatherLive.com' since NASA seems to drop off digits if it make the string longer than 4 characters."
   ]
  },
  {
   "cell_type": "markdown",
   "metadata": {
    "collapsed": true
   },
   "source": [
    "# Part 2 - Question 2"
   ]
  },
  {
   "cell_type": "code",
   "execution_count": 784,
   "metadata": {
    "collapsed": false
   },
   "outputs": [
    {
     "name": "stdout",
     "output_type": "stream",
     "text": [
      "    rank x_class    start_datetime_x      max_datetime_x      end_datetime_x  \\\n",
      "1      1   X28.0 2003-11-04 19:29:00 2003-11-04 19:53:00 2003-11-04 20:06:00   \n",
      "2      6   X10.0 2003-10-29 20:37:00 2003-10-29 20:49:00 2003-10-29 21:01:00   \n",
      "3     11    X6.9 2011-08-09 07:48:00 2011-08-09 08:05:00 2011-08-09 08:08:00   \n",
      "4     13    X6.2 2005-09-09 19:13:00 2005-09-09 20:04:00 2005-09-09 20:36:00   \n",
      "5     23    X4.8 2002-07-23 00:18:00 2002-07-23 00:35:00 2002-07-23 00:47:00   \n",
      "6     24    X4.0 2000-11-26 16:34:00 2000-11-26 16:48:00 2000-11-26 16:56:00   \n",
      "7     26    X3.9 2003-11-03 09:43:00 2003-11-03 09:55:00 2003-11-03 10:19:00   \n",
      "8     27    X3.8 2005-01-17 06:59:00 2005-01-17 09:52:00 2005-01-17 10:07:00   \n",
      "9     37    X3.2 2013-05-14 00:00:00 2013-05-14 01:11:00 2013-05-14 01:20:00   \n",
      "10    39    X3.1 2002-08-24 00:49:00 2002-08-24 01:12:00 2002-08-24 01:31:00   \n",
      "11    43    X2.8 2013-05-13 15:48:00 2013-05-13 16:05:00 2013-05-13 16:16:00   \n",
      "12    45    X2.7 2003-11-03 01:09:00 2003-11-03 01:30:00 2003-11-03 01:45:00   \n",
      "13    47    X2.6 1997-11-27 12:59:00 1997-11-27 13:17:00 1997-11-27 13:20:00   \n",
      "14    50    X2.5 2004-11-10 01:59:00 2004-11-10 02:13:00 2004-11-10 02:20:00   \n",
      "\n",
      "   region  \n",
      "1    0486  \n",
      "2    0486  \n",
      "3    1263  \n",
      "4    0808  \n",
      "5    0039  \n",
      "6    9236  \n",
      "7    0488  \n",
      "8    0720  \n",
      "9    1748  \n",
      "10   0069  \n",
      "11   1748  \n",
      "12   0488  \n",
      "13   8113  \n",
      "14   0696  \n"
     ]
    }
   ],
   "source": [
    "def findMatch(df1, df2):\n",
    "    merged = pd.merge(df1, df2, left_on=['region','x_class'], right_on=['region','x_class'])\n",
    "    \n",
    "    for index, row in merged.iterrows():\n",
    "        \n",
    "        start_diff = abs(row['start_datetime_x'] - row['start_datetime_y'])/np.timedelta64(1, 's')\n",
    "        max_diff = abs(row['max_datetime_x'] - row['max_datetime_y'])/np.timedelta64(1, 's')\n",
    "        end_diff = abs(row['end_datetime_x'] - row['end_datetime_y'])/np.timedelta64(1, 's')\n",
    "        \n",
    "        if (start_diff > 3600*4 ):\n",
    "            merged.drop(index, inplace=True)\n",
    "        elif (max_diff > 3600*4 ):\n",
    "            merged.drop(index, inplace=True)\n",
    "        elif (end_diff > 3600*4 ):\n",
    "            merged.drop(index, inplace=True)\n",
    "    \n",
    "    result = merged.drop(['start_datetime_y', 'max_datetime_y', 'end_datetime_y'], axis=1)\n",
    "    \n",
    "    return result\n",
    "\n",
    "result = findMatch(p2result,rep_table)\n",
    "result.reset_index(drop=True, inplace=True)\n",
    "result.index = result.index+1\n",
    "print(result)"
   ]
  },
  {
   "cell_type": "markdown",
   "metadata": {
    "collapsed": false
   },
   "source": [
    "First I merged the two DataFrame based on their region and classification.  \n",
    "Then I compare the differene between the start, max and end time.  \n",
    "If the differnece between the time is within 4 hours then I consider it a match, sicne I relized that there might be a slight variation for when they observed the events."
   ]
  },
  {
   "cell_type": "markdown",
   "metadata": {
    "collapsed": false
   },
   "source": [
    "# Part 2 - Question 3"
   ]
  },
  {
   "cell_type": "markdown",
   "metadata": {},
   "source": [
    "a) This graph is intended to find out whether there exists a correlation between flares beimg in the top 50 and also beign halo."
   ]
  },
  {
   "cell_type": "code",
   "execution_count": 785,
   "metadata": {
    "collapsed": false
   },
   "outputs": [],
   "source": [
    "import matplotlib.pyplot as plt\n",
    "\n",
    "NASA_Plot = NASA_Plot.drop(['letter','number'], axis=1)\n",
    "NASA_Plot=NASA_Plot.rename(columns = {'cme_datetime':'max_datetime'})\n",
    "NASA_Plot=NASA_Plot.rename(columns = {'flare_region':'region'})\n",
    "NASA_Plot=NASA_Plot.rename(columns = {'flare_classification':'x_class'})\n",
    "\n",
    "NASA_Plot['start_datetime'] =  pd.to_datetime(NASA_Plot['start_datetime'], format='%Y-%m-%d %H-%M-%S')\n",
    "NASA_Plot['max_datetime'] =  pd.to_datetime(NASA_Plot['max_datetime'], format='%Y-%m-%d %H-%M-%S')\n",
    "NASA_Plot['end_datetime'] =  pd.to_datetime(NASA_Plot['end_datetime'], format='%Y-%m-%d %H-%M-%S')\n",
    "\n",
    "Top50_merged = findMatch(p2result, NASA_Plot)"
   ]
  },
  {
   "cell_type": "code",
   "execution_count": 786,
   "metadata": {
    "collapsed": false,
    "scrolled": true
   },
   "outputs": [],
   "source": [
    "Top50_isHalo = 0;\n",
    "Top50_entries = len(Top50_merged.index)\n",
    "for index, row in Top50_merged.iterrows():\n",
    "    if (row['is_halo'] == \"True\"):\n",
    "        Top50_isHalo += 1\n",
    "    \n",
    "Top50_percent_halo = round(((Top50_isHalo/Top50_entries)*100), 2)"
   ]
  },
  {
   "cell_type": "code",
   "execution_count": 787,
   "metadata": {
    "collapsed": false
   },
   "outputs": [],
   "source": [
    "NASA_isHalo = 0;\n",
    "NASA_entries = len(NASA_Plot.index)\n",
    "\n",
    "for index, row in NASA_Plot.iterrows():\n",
    "    if (row['is_halo'] == \"True\"):\n",
    "        NASA_isHalo += 1\n",
    "\n",
    "NASA_percent_halo = round(((NASA_isHalo/NASA_entries)*100),2)     "
   ]
  },
  {
   "cell_type": "code",
   "execution_count": 788,
   "metadata": {
    "collapsed": false
   },
   "outputs": [
    {
     "data": {
      "image/png": "[encoded data removed]",
      "text/plain": [
       "<matplotlib.figure.Figure at 0x110058048>"
      ]
     },
     "metadata": {},
     "output_type": "display_data"
    }
   ],
   "source": [
    "Flares = ['Top50_Flares', 'NASA_Flares']\n",
    "plotData = {'percentage' : [Top50_percent_halo,NASA_percent_halo]}\n",
    "plotData = pd.DataFrame(plotData, index=Flares)\n",
    "\n",
    "plt.figure(figsize=(12, 8))\n",
    "plt.ylim([0,100])\n",
    "ax = plotData.percentage.plot(kind='bar')\n",
    "ax.set_title(\"Do flares in the top 50 tend to have Halo CMEs?\")\n",
    "ax.set_ylabel(\"percentage of flares that are Halo\")\n",
    "rects = ax.patches\n",
    "labels = [str(Top50_percent_halo)+'%',str(NASA_percent_halo)+'%']\n",
    "\n",
    "for rect, label in zip(rects, labels):\n",
    "    height = rect.get_height()\n",
    "    ax.text(rect.get_x() + rect.get_width()/2, height+1 , label, ha='center', va='bottom')\n",
    "\n",
    "plt.show()"
   ]
  },
  {
   "cell_type": "markdown",
   "metadata": {},
   "source": [
    "c) The bar graph show the percentage of flares in the top 50 list that are halo flares and the percentage of flares in the entire NASA data that are halo flares."
   ]
  },
  {
   "cell_type": "markdown",
   "metadata": {},
   "source": [
    "d) From the graph produced by the data sets, it seems like when a flare is in the top 50 list there is a very high chance(78.57%) that is it a halo flare.  "
   ]
  }
 ],
 "metadata": {
  "kernelspec": {
   "display_name": "Python 3",
   "language": "python",
   "name": "python3"
  },
  "language_info": {
   "codemirror_mode": {
    "name": "ipython",
    "version": 3
   },
   "file_extension": ".py",
   "mimetype": "text/x-python",
   "name": "python",
   "nbconvert_exporter": "python",
   "pygments_lexer": "ipython3",
   "version": "3.6.0"
  }
 },
 "nbformat": 4,
 "nbformat_minor": 2
}
