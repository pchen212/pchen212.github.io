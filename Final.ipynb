{
 "cells": [
  {
   "cell_type": "markdown",
   "metadata": {},
   "source": [
    "# MLB - Can you predict pitcher's ERA?"
   ]
  },
  {
   "cell_type": "markdown",
   "metadata": {},
   "source": [
    "# Introduction"
   ]
  },
  {
   "cell_type": "markdown",
   "metadata": {},
   "source": [
    "In this tutorial I will take you through some basic steps to process baseball statistics.  \n",
    "Which includes tasks like importing libraries, collecting data, cleaning up the data and drawing graphs.  \n",
    "Statistics is very important in the world of baseball, for example \"Moneyball\" the book and film which were made based off of how well the Oakland A's did with an extremely low budget because the manager assembled a team based on statistical values of the players.  \n",
    "  \n",
    "This is also very true for Fanyasy Baseball players such as myself. It's important to study players' past perfomences and predict who will continue to perform well and who to avoid when you are drafting.  \n",
    "  \n",
    "Major Leauge Baseball is constantly looking for new technologies to track different types of statistical values.  \n",
    "In the year 2008, MLB started to implimented a tool called \"Statcast\", Statcast is a high-speed, high-accuracy, automated tool developed to analyze player movements and athletic abilities.  \n",
    "This tracks information like, pitch speed, types of pitch, rotation speed, hitting average against individual pitchers, catch probablility and hundres more.  \n",
    "  \n",
    "The goal for this tutorial is to look at top 10 pitchers with the lowrst ERA from year 2010 to 2015 and study the following stats:  \n",
    "* Pitch Velocity\n",
    "* Pitch percentage inside the zone\n",
    "* Pitches percentage outside the zone\n",
    "* Fastball thrown percentage\n",
    "* Offspeed thrown percentage\n",
    "* Strikeouts per 9 innings (K/9) \n",
    "\n",
    "and see if we can use these values to predict pitcher ERA in 2016."
   ]
  },
  {
   "cell_type": "markdown",
   "metadata": {},
   "source": [
    "# Tutorial content"
   ]
  },
  {
   "cell_type": "markdown",
   "metadata": {},
   "source": [
    "In this tutorial, we will use dataset provided by <a href='http://www.seanlahman.com/baseball-archive/statistics/'>Sean Lahman</a>. Sean's dataset provides detailed information from team franchises to individual player performences. Today we will be using ERA, Strikeouts and Innings pitched from his dataset.  \n",
    "  \n",
    "We will also use another dataset from <a = href=\"https://baseballsavant.mlb.com/statcast_search\">Baseball Savant</a>. This website allows you to look up statistics collected by MLB's statcast tool. We will collect the stats mentioned in the introduction form this website.  "
   ]
  },
  {
   "cell_type": "markdown",
   "metadata": {},
   "source": [
    "# Imports"
   ]
  },
  {
   "cell_type": "markdown",
   "metadata": {},
   "source": [
    "For this tutorial we will use the following libraries to help us with our prediction.  "
   ]
  },
  {
   "cell_type": "code",
   "execution_count": 39,
   "metadata": {
    "collapsed": true
   },
   "outputs": [],
   "source": [
    "import pandas as pd\n",
    "import sqlite3\n",
    "import matplotlib.pyplot as plt\n",
    "import statsmodels.formula.api as smf\n",
    "import numpy as np\n",
    "import sklearn"
   ]
  },
  {
   "cell_type": "markdown",
   "metadata": {},
   "source": [
    "# Loading Data"
   ]
  },
  {
   "cell_type": "markdown",
   "metadata": {},
   "source": [
    "Now that we have imported all the necessary libraries for the task, we will need to load data sets to process.  \n",
    "As mentioned before, we will be using datas provided by Sean Lahman and Bseball Savant.  \n",
    "Below I provided links for all the data sets that we will need for this tutorial.  \n",
    "* <a herf=\"lahman2016.sqlite\">lahman2016.sqlite</a>  \n",
    "* <a herf=\"statcast_velocity.csv\">statcast_velocity.csv</a>  \n",
    "* <a herf=\"statcast_inzone.csv\">statcast_inzone.csv</a>  \n",
    "* <a herf=\"statcast_outzone.csv\">statcast_outzone.csv</a>  \n",
    "* <a herf=\"statcast_offspeed.csv\">statcast_offspeed.csv</a>  \n",
    "* <a herf=\"statcast_fastball.csv\">statcast_fastball.csv</a>  \n",
    "These files should be put in the same folder as the Jupyter Notebook.  \n",
    "  \n",
    "For the first part we will use lahman2016.sqlite.  \n",
    "The following command shows you how to load a sqlite into your notebook.  "
   ]
  },
  {
   "cell_type": "code",
   "execution_count": 40,
   "metadata": {
    "collapsed": false,
    "scrolled": false
   },
   "outputs": [],
   "source": [
    "lahman_2016 = 'lahman2016.sqlite'\n",
    "conn = sqlite3.connect(lahman_2016)"
   ]
  },
  {
   "cell_type": "markdown",
   "metadata": {},
   "source": [
    "Now that we have the sql filed loaded in, we will need to write a SQL query to get the infomation we want from it.  \n",
    "Below is the command to get a player's name and their ERA + K/9 for years from 2010 and onward and pitched atleast 20 games.    \n",
    "Noticed that the data set doesnt not provide a column with First Name + Last Name so we have to combine them manually.  \n",
    "Also we had to calcualte the K/9 by ourselves which is simply just 9*(Strikeouts/Innings pitched).  \n",
    "  \n",
    "**R.A. Dickey's name format is differnt than the second data set we will use later, so I made a change here**"
   ]
  },
  {
   "cell_type": "code",
   "execution_count": 41,
   "metadata": {
    "collapsed": false
   },
   "outputs": [
    {
     "data": {
      "text/html": [
       "<div>\n",
       "<table border=\"1\" class=\"dataframe\">\n",
       "  <thead>\n",
       "    <tr style=\"text-align: right;\">\n",
       "      <th></th>\n",
       "      <th>player_name</th>\n",
       "      <th>ERA</th>\n",
       "      <th>year</th>\n",
       "      <th>K9</th>\n",
       "    </tr>\n",
       "  </thead>\n",
       "  <tbody>\n",
       "    <tr>\n",
       "      <th>0</th>\n",
       "      <td>Felix Hernandez</td>\n",
       "      <td>2.27</td>\n",
       "      <td>2010</td>\n",
       "      <td>8.363151</td>\n",
       "    </tr>\n",
       "    <tr>\n",
       "      <th>1</th>\n",
       "      <td>Josh Johnson</td>\n",
       "      <td>2.30</td>\n",
       "      <td>2010</td>\n",
       "      <td>9.114338</td>\n",
       "    </tr>\n",
       "    <tr>\n",
       "      <th>2</th>\n",
       "      <td>Clay Buchholz</td>\n",
       "      <td>2.33</td>\n",
       "      <td>2010</td>\n",
       "      <td>6.218810</td>\n",
       "    </tr>\n",
       "    <tr>\n",
       "      <th>3</th>\n",
       "      <td>Adam Wainwright</td>\n",
       "      <td>2.42</td>\n",
       "      <td>2010</td>\n",
       "      <td>8.322721</td>\n",
       "    </tr>\n",
       "    <tr>\n",
       "      <th>4</th>\n",
       "      <td>Roy Halladay</td>\n",
       "      <td>2.44</td>\n",
       "      <td>2010</td>\n",
       "      <td>7.863032</td>\n",
       "    </tr>\n",
       "  </tbody>\n",
       "</table>\n",
       "</div>"
      ],
      "text/plain": [
       "       player_name   ERA  year        K9\n",
       "0  Felix Hernandez  2.27  2010  8.363151\n",
       "1     Josh Johnson  2.30  2010  9.114338\n",
       "2    Clay Buchholz  2.33  2010  6.218810\n",
       "3  Adam Wainwright  2.42  2010  8.322721\n",
       "4     Roy Halladay  2.44  2010  7.863032"
      ]
     },
     "execution_count": 41,
     "metadata": {},
     "output_type": "execute_result"
    }
   ],
   "source": [
    "pitcher_query = \"\"\"SELECT (MASTER.nameFirst||\\\" \\\"||MASTER.nameLast) AS player_name,ERA, yearID AS year,\n",
    "                (9*(SO/(IPOuts/3.0))) AS K9\n",
    "                   FROM Pitching, MASTER\n",
    "                   WHERE Pitching.playerID == MASTER.playerID AND Pitching.GS >= 20 AND\n",
    "                         Pitching.yearID >=2010\n",
    "                   ORDER BY yearID, ERA\"\"\"\n",
    "pitcher_stats = pd.read_sql(pitcher_query, conn)\n",
    "pitcher_stats.head()"
   ]
  },
  {
   "cell_type": "markdown",
   "metadata": {},
   "source": [
    "As you can see form the comman below, each yaer contains more than 100 pitchers, but we only want the top10.  \n",
    "I wrote a the function \"top10\" to help us out here.  \n",
    "Since the dataframe was ordered by ERA in ascending order, we can just filter by the year and use head to get the first 10.  "
   ]
  },
  {
   "cell_type": "code",
   "execution_count": 42,
   "metadata": {
    "collapsed": false
   },
   "outputs": [
    {
     "data": {
      "text/plain": [
       "2011    130\n",
       "2013    124\n",
       "2010    124\n",
       "2014    123\n",
       "2015    121\n",
       "2016    120\n",
       "2012    118\n",
       "Name: year, dtype: int64"
      ]
     },
     "execution_count": 42,
     "metadata": {},
     "output_type": "execute_result"
    }
   ],
   "source": [
    "pitcher_stats['year'].value_counts()"
   ]
  },
  {
   "cell_type": "code",
   "execution_count": 43,
   "metadata": {
    "collapsed": false
   },
   "outputs": [
    {
     "data": {
      "text/html": [
       "<div>\n",
       "<table border=\"1\" class=\"dataframe\">\n",
       "  <thead>\n",
       "    <tr style=\"text-align: right;\">\n",
       "      <th></th>\n",
       "      <th>player_name</th>\n",
       "      <th>ERA</th>\n",
       "      <th>year</th>\n",
       "      <th>K9</th>\n",
       "    </tr>\n",
       "  </thead>\n",
       "  <tbody>\n",
       "    <tr>\n",
       "      <th>0</th>\n",
       "      <td>Felix Hernandez</td>\n",
       "      <td>2.27</td>\n",
       "      <td>2010</td>\n",
       "      <td>8.363151</td>\n",
       "    </tr>\n",
       "    <tr>\n",
       "      <th>1</th>\n",
       "      <td>Josh Johnson</td>\n",
       "      <td>2.30</td>\n",
       "      <td>2010</td>\n",
       "      <td>9.114338</td>\n",
       "    </tr>\n",
       "    <tr>\n",
       "      <th>2</th>\n",
       "      <td>Clay Buchholz</td>\n",
       "      <td>2.33</td>\n",
       "      <td>2010</td>\n",
       "      <td>6.218810</td>\n",
       "    </tr>\n",
       "    <tr>\n",
       "      <th>3</th>\n",
       "      <td>Adam Wainwright</td>\n",
       "      <td>2.42</td>\n",
       "      <td>2010</td>\n",
       "      <td>8.322721</td>\n",
       "    </tr>\n",
       "    <tr>\n",
       "      <th>4</th>\n",
       "      <td>Roy Halladay</td>\n",
       "      <td>2.44</td>\n",
       "      <td>2010</td>\n",
       "      <td>7.863032</td>\n",
       "    </tr>\n",
       "    <tr>\n",
       "      <th>5</th>\n",
       "      <td>Jaime Garcia</td>\n",
       "      <td>2.70</td>\n",
       "      <td>2010</td>\n",
       "      <td>7.273469</td>\n",
       "    </tr>\n",
       "    <tr>\n",
       "      <th>6</th>\n",
       "      <td>David Price</td>\n",
       "      <td>2.72</td>\n",
       "      <td>2010</td>\n",
       "      <td>8.108626</td>\n",
       "    </tr>\n",
       "    <tr>\n",
       "      <th>7</th>\n",
       "      <td>Tim Hudson</td>\n",
       "      <td>2.83</td>\n",
       "      <td>2010</td>\n",
       "      <td>5.470845</td>\n",
       "    </tr>\n",
       "    <tr>\n",
       "      <th>8</th>\n",
       "      <td>R. A. Dickey</td>\n",
       "      <td>2.84</td>\n",
       "      <td>2010</td>\n",
       "      <td>5.369025</td>\n",
       "    </tr>\n",
       "    <tr>\n",
       "      <th>9</th>\n",
       "      <td>Ubaldo Jimenez</td>\n",
       "      <td>2.88</td>\n",
       "      <td>2010</td>\n",
       "      <td>8.688722</td>\n",
       "    </tr>\n",
       "  </tbody>\n",
       "</table>\n",
       "</div>"
      ],
      "text/plain": [
       "       player_name   ERA  year        K9\n",
       "0  Felix Hernandez  2.27  2010  8.363151\n",
       "1     Josh Johnson  2.30  2010  9.114338\n",
       "2    Clay Buchholz  2.33  2010  6.218810\n",
       "3  Adam Wainwright  2.42  2010  8.322721\n",
       "4     Roy Halladay  2.44  2010  7.863032\n",
       "5     Jaime Garcia  2.70  2010  7.273469\n",
       "6      David Price  2.72  2010  8.108626\n",
       "7       Tim Hudson  2.83  2010  5.470845\n",
       "8     R. A. Dickey  2.84  2010  5.369025\n",
       "9   Ubaldo Jimenez  2.88  2010  8.688722"
      ]
     },
     "execution_count": 43,
     "metadata": {},
     "output_type": "execute_result"
    }
   ],
   "source": [
    "def top10(year):\n",
    "    sub_df = pitcher_stats.loc[pitcher_stats['year'] == year].head(10)\n",
    "    return sub_df\n",
    "\n",
    "top10_2010 = top10(2010)\n",
    "top10_2011 = top10(2011)\n",
    "top10_2012 = top10(2012)\n",
    "top10_2013 = top10(2013)\n",
    "top10_2014 = top10(2014)\n",
    "top10_2015 = top10(2015)\n",
    "\n",
    "top10_2010"
   ]
  },
  {
   "cell_type": "markdown",
   "metadata": {},
   "source": [
    "Now that we have cleaned up the first dataset, lets dive into the 5 other data sets.  \n",
    "I also wrote a function for this, since I will pretty much do the same commands for the files, its simplier this way.  \n",
    "the function takes in the csv file names, and the columns that we want, and column name you want to change.  \n",
    "**I needed to change the column names because they all have the same name, which would cause confusion when I merge them**"
   ]
  },
  {
   "cell_type": "code",
   "execution_count": 44,
   "metadata": {
    "collapsed": false
   },
   "outputs": [],
   "source": [
    "def clean_df(filename, columns, rename_target, rename_value):\n",
    "    read = pd.read_csv(filename+\".csv\")\n",
    "    temp = read[columns].rename(columns={rename_target : rename_value})\n",
    "    return temp"
   ]
  },
  {
   "cell_type": "markdown",
   "metadata": {},
   "source": [
    "So you are probably wonderign why I'm cleaning up these data sets.  \n",
    "**Because its a mess and contains too much extra informations that we dont need**  \n",
    "Let me show you what it looks like before cleaning it up.  "
   ]
  },
  {
   "cell_type": "code",
   "execution_count": 45,
   "metadata": {
    "collapsed": false
   },
   "outputs": [
    {
     "data": {
      "text/html": [
       "<div>\n",
       "<table border=\"1\" class=\"dataframe\">\n",
       "  <thead>\n",
       "    <tr style=\"text-align: right;\">\n",
       "      <th></th>\n",
       "      <th>pitches</th>\n",
       "      <th>player_id</th>\n",
       "      <th>player_name</th>\n",
       "      <th>year</th>\n",
       "      <th>total_pitches</th>\n",
       "      <th>pitch_percent</th>\n",
       "      <th>ba</th>\n",
       "      <th>iso</th>\n",
       "      <th>babip</th>\n",
       "      <th>slg</th>\n",
       "      <th>...</th>\n",
       "      <th>takes</th>\n",
       "      <th>eff_min_vel</th>\n",
       "      <th>release_extension</th>\n",
       "      <th>pos3_int_start_distance</th>\n",
       "      <th>pos4_int_start_distance</th>\n",
       "      <th>pos5_int_start_distance</th>\n",
       "      <th>pos6_int_start_distance</th>\n",
       "      <th>pos7_int_start_distance</th>\n",
       "      <th>pos8_int_start_distance</th>\n",
       "      <th>pos9_int_start_distance</th>\n",
       "    </tr>\n",
       "  </thead>\n",
       "  <tbody>\n",
       "    <tr>\n",
       "      <th>0</th>\n",
       "      <td>2935</td>\n",
       "      <td>592789</td>\n",
       "      <td>Noah Syndergaard</td>\n",
       "      <td>2016</td>\n",
       "      <td>2935</td>\n",
       "      <td>100.0</td>\n",
       "      <td>0.243</td>\n",
       "      <td>0.108</td>\n",
       "      <td>0.336</td>\n",
       "      <td>0.351</td>\n",
       "      <td>...</td>\n",
       "      <td>1442</td>\n",
       "      <td>0.6</td>\n",
       "      <td>6.77</td>\n",
       "      <td>109</td>\n",
       "      <td>152</td>\n",
       "      <td>111</td>\n",
       "      <td>146</td>\n",
       "      <td>290</td>\n",
       "      <td>311</td>\n",
       "      <td>293</td>\n",
       "    </tr>\n",
       "    <tr>\n",
       "      <th>1</th>\n",
       "      <td>1727</td>\n",
       "      <td>543037</td>\n",
       "      <td>Gerrit Cole</td>\n",
       "      <td>2013</td>\n",
       "      <td>1727</td>\n",
       "      <td>100.0</td>\n",
       "      <td>0.253</td>\n",
       "      <td>0.084</td>\n",
       "      <td>0.313</td>\n",
       "      <td>0.336</td>\n",
       "      <td>...</td>\n",
       "      <td>895</td>\n",
       "      <td>null</td>\n",
       "      <td>null</td>\n",
       "      <td>null</td>\n",
       "      <td>null</td>\n",
       "      <td>null</td>\n",
       "      <td>null</td>\n",
       "      <td>null</td>\n",
       "      <td>null</td>\n",
       "      <td>null</td>\n",
       "    </tr>\n",
       "    <tr>\n",
       "      <th>2</th>\n",
       "      <td>2798</td>\n",
       "      <td>518774</td>\n",
       "      <td>Matt Harvey</td>\n",
       "      <td>2015</td>\n",
       "      <td>2798</td>\n",
       "      <td>100.0</td>\n",
       "      <td>0.222</td>\n",
       "      <td>0.122</td>\n",
       "      <td>0.277</td>\n",
       "      <td>0.344</td>\n",
       "      <td>...</td>\n",
       "      <td>1430</td>\n",
       "      <td>-1.1</td>\n",
       "      <td>6.02</td>\n",
       "      <td>113</td>\n",
       "      <td>149</td>\n",
       "      <td>111</td>\n",
       "      <td>146</td>\n",
       "      <td>292</td>\n",
       "      <td>307</td>\n",
       "      <td>291</td>\n",
       "    </tr>\n",
       "    <tr>\n",
       "      <th>3</th>\n",
       "      <td>3239</td>\n",
       "      <td>543037</td>\n",
       "      <td>Gerrit Cole</td>\n",
       "      <td>2015</td>\n",
       "      <td>3239</td>\n",
       "      <td>100.0</td>\n",
       "      <td>0.239</td>\n",
       "      <td>0.097</td>\n",
       "      <td>0.308</td>\n",
       "      <td>0.336</td>\n",
       "      <td>...</td>\n",
       "      <td>1659</td>\n",
       "      <td>-0.3</td>\n",
       "      <td>6.20</td>\n",
       "      <td>108</td>\n",
       "      <td>151</td>\n",
       "      <td>110</td>\n",
       "      <td>148</td>\n",
       "      <td>297</td>\n",
       "      <td>318</td>\n",
       "      <td>292</td>\n",
       "    </tr>\n",
       "    <tr>\n",
       "      <th>4</th>\n",
       "      <td>2697</td>\n",
       "      <td>518774</td>\n",
       "      <td>Matt Harvey</td>\n",
       "      <td>2013</td>\n",
       "      <td>2697</td>\n",
       "      <td>100.0</td>\n",
       "      <td>0.209</td>\n",
       "      <td>0.073</td>\n",
       "      <td>0.283</td>\n",
       "      <td>0.282</td>\n",
       "      <td>...</td>\n",
       "      <td>1326</td>\n",
       "      <td>null</td>\n",
       "      <td>null</td>\n",
       "      <td>null</td>\n",
       "      <td>null</td>\n",
       "      <td>null</td>\n",
       "      <td>null</td>\n",
       "      <td>null</td>\n",
       "      <td>null</td>\n",
       "      <td>null</td>\n",
       "    </tr>\n",
       "  </tbody>\n",
       "</table>\n",
       "<p>5 rows × 32 columns</p>\n",
       "</div>"
      ],
      "text/plain": [
       "   pitches  player_id       player_name  year  total_pitches  pitch_percent  \\\n",
       "0     2935     592789  Noah Syndergaard  2016           2935          100.0   \n",
       "1     1727     543037       Gerrit Cole  2013           1727          100.0   \n",
       "2     2798     518774       Matt Harvey  2015           2798          100.0   \n",
       "3     3239     543037       Gerrit Cole  2015           3239          100.0   \n",
       "4     2697     518774       Matt Harvey  2013           2697          100.0   \n",
       "\n",
       "      ba    iso  babip    slg           ...            takes  eff_min_vel  \\\n",
       "0  0.243  0.108  0.336  0.351           ...             1442          0.6   \n",
       "1  0.253  0.084  0.313  0.336           ...              895         null   \n",
       "2  0.222  0.122  0.277  0.344           ...             1430         -1.1   \n",
       "3  0.239  0.097  0.308  0.336           ...             1659         -0.3   \n",
       "4  0.209  0.073  0.283  0.282           ...             1326         null   \n",
       "\n",
       "   release_extension  pos3_int_start_distance  pos4_int_start_distance  \\\n",
       "0               6.77                      109                      152   \n",
       "1               null                     null                     null   \n",
       "2               6.02                      113                      149   \n",
       "3               6.20                      108                      151   \n",
       "4               null                     null                     null   \n",
       "\n",
       "  pos5_int_start_distance pos6_int_start_distance pos7_int_start_distance  \\\n",
       "0                     111                     146                     290   \n",
       "1                    null                    null                    null   \n",
       "2                     111                     146                     292   \n",
       "3                     110                     148                     297   \n",
       "4                    null                    null                    null   \n",
       "\n",
       "   pos8_int_start_distance pos9_int_start_distance  \n",
       "0                      311                     293  \n",
       "1                     null                    null  \n",
       "2                      307                     291  \n",
       "3                      318                     292  \n",
       "4                     null                    null  \n",
       "\n",
       "[5 rows x 32 columns]"
      ]
     },
     "execution_count": 45,
     "metadata": {},
     "output_type": "execute_result"
    }
   ],
   "source": [
    "example = pd.read_csv(\"statcast_velocity.csv\")\n",
    "example.head()"
   ]
  },
  {
   "cell_type": "markdown",
   "metadata": {},
   "source": [
    "Now lets runs some commands using the function above to clean them up.  "
   ]
  },
  {
   "cell_type": "code",
   "execution_count": 46,
   "metadata": {
    "collapsed": false,
    "scrolled": true
   },
   "outputs": [
    {
     "data": {
      "text/html": [
       "<div>\n",
       "<table border=\"1\" class=\"dataframe\">\n",
       "  <thead>\n",
       "    <tr style=\"text-align: right;\">\n",
       "      <th></th>\n",
       "      <th>player_name</th>\n",
       "      <th>year</th>\n",
       "      <th>velocity</th>\n",
       "    </tr>\n",
       "  </thead>\n",
       "  <tbody>\n",
       "    <tr>\n",
       "      <th>0</th>\n",
       "      <td>Noah Syndergaard</td>\n",
       "      <td>2016</td>\n",
       "      <td>94.8</td>\n",
       "    </tr>\n",
       "    <tr>\n",
       "      <th>1</th>\n",
       "      <td>Gerrit Cole</td>\n",
       "      <td>2013</td>\n",
       "      <td>93.4</td>\n",
       "    </tr>\n",
       "    <tr>\n",
       "      <th>2</th>\n",
       "      <td>Matt Harvey</td>\n",
       "      <td>2015</td>\n",
       "      <td>93.2</td>\n",
       "    </tr>\n",
       "    <tr>\n",
       "      <th>3</th>\n",
       "      <td>Gerrit Cole</td>\n",
       "      <td>2015</td>\n",
       "      <td>93.0</td>\n",
       "    </tr>\n",
       "    <tr>\n",
       "      <th>4</th>\n",
       "      <td>Matt Harvey</td>\n",
       "      <td>2013</td>\n",
       "      <td>92.7</td>\n",
       "    </tr>\n",
       "  </tbody>\n",
       "</table>\n",
       "</div>"
      ],
      "text/plain": [
       "        player_name  year  velocity\n",
       "0  Noah Syndergaard  2016      94.8\n",
       "1       Gerrit Cole  2013      93.4\n",
       "2       Matt Harvey  2015      93.2\n",
       "3       Gerrit Cole  2015      93.0\n",
       "4       Matt Harvey  2013      92.7"
      ]
     },
     "execution_count": 46,
     "metadata": {},
     "output_type": "execute_result"
    }
   ],
   "source": [
    "statcast_velocity = clean_df('statcast_velocity',['player_name','year','velocity'],'','')\n",
    "statcast_inzone = clean_df('statcast_inzone',['player_name','year','pitch_percent'],'pitch_percent', 'inzone')\n",
    "statcast_outzone = clean_df('statcast_outzone',['player_name','year','pitch_percent'],'pitch_percent', 'outzone')\n",
    "statcast_fastball = clean_df('statcast_fastball',['player_name','year','pitch_percent'],'pitch_percent', 'fastball')\n",
    "statcast_offspeed = clean_df('statcast_offspeed',['player_name','year','pitch_percent'],'pitch_percent', 'offspeed')\n",
    "\n",
    "statcast_velocity.head()"
   ]
  },
  {
   "cell_type": "markdown",
   "metadata": {},
   "source": [
    "Much easier to read right?  \n",
    "Now thats combine all the different stats into one beautiful dataframe.  \n",
    "  \n",
    "**remember the top10 function we used before to create the list of top 10 pitchers from before?  \n",
    "now we combine the lists and merge them with the rest of the stats**"
   ]
  },
  {
   "cell_type": "code",
   "execution_count": 47,
   "metadata": {
    "collapsed": false
   },
   "outputs": [
    {
     "data": {
      "text/html": [
       "<div>\n",
       "<table border=\"1\" class=\"dataframe\">\n",
       "  <thead>\n",
       "    <tr style=\"text-align: right;\">\n",
       "      <th></th>\n",
       "      <th>player_name</th>\n",
       "      <th>year</th>\n",
       "      <th>velocity</th>\n",
       "      <th>inzone</th>\n",
       "      <th>outzone</th>\n",
       "      <th>fastball</th>\n",
       "      <th>offspeed</th>\n",
       "      <th>ERA</th>\n",
       "      <th>K9</th>\n",
       "    </tr>\n",
       "  </thead>\n",
       "  <tbody>\n",
       "    <tr>\n",
       "      <th>0</th>\n",
       "      <td>Matt Harvey</td>\n",
       "      <td>2015</td>\n",
       "      <td>93.2</td>\n",
       "      <td>51.82</td>\n",
       "      <td>48.18</td>\n",
       "      <td>60.76</td>\n",
       "      <td>38.88</td>\n",
       "      <td>2.71</td>\n",
       "      <td>8.936620</td>\n",
       "    </tr>\n",
       "    <tr>\n",
       "      <th>1</th>\n",
       "      <td>Gerrit Cole</td>\n",
       "      <td>2015</td>\n",
       "      <td>93.0</td>\n",
       "      <td>50.32</td>\n",
       "      <td>49.68</td>\n",
       "      <td>66.90</td>\n",
       "      <td>32.91</td>\n",
       "      <td>2.60</td>\n",
       "      <td>8.740385</td>\n",
       "    </tr>\n",
       "    <tr>\n",
       "      <th>2</th>\n",
       "      <td>Matt Harvey</td>\n",
       "      <td>2013</td>\n",
       "      <td>92.7</td>\n",
       "      <td>52.65</td>\n",
       "      <td>47.31</td>\n",
       "      <td>56.77</td>\n",
       "      <td>43.05</td>\n",
       "      <td>2.27</td>\n",
       "      <td>9.639252</td>\n",
       "    </tr>\n",
       "    <tr>\n",
       "      <th>3</th>\n",
       "      <td>Josh Johnson</td>\n",
       "      <td>2010</td>\n",
       "      <td>92.7</td>\n",
       "      <td>48.69</td>\n",
       "      <td>51.14</td>\n",
       "      <td>61.78</td>\n",
       "      <td>37.68</td>\n",
       "      <td>2.30</td>\n",
       "      <td>9.114338</td>\n",
       "    </tr>\n",
       "    <tr>\n",
       "      <th>4</th>\n",
       "      <td>Ubaldo Jimenez</td>\n",
       "      <td>2010</td>\n",
       "      <td>92.3</td>\n",
       "      <td>47.89</td>\n",
       "      <td>50.86</td>\n",
       "      <td>76.33</td>\n",
       "      <td>21.78</td>\n",
       "      <td>2.88</td>\n",
       "      <td>8.688722</td>\n",
       "    </tr>\n",
       "  </tbody>\n",
       "</table>\n",
       "</div>"
      ],
      "text/plain": [
       "      player_name  year  velocity  inzone  outzone  fastball  offspeed   ERA  \\\n",
       "0     Matt Harvey  2015      93.2   51.82    48.18     60.76     38.88  2.71   \n",
       "1     Gerrit Cole  2015      93.0   50.32    49.68     66.90     32.91  2.60   \n",
       "2     Matt Harvey  2013      92.7   52.65    47.31     56.77     43.05  2.27   \n",
       "3    Josh Johnson  2010      92.7   48.69    51.14     61.78     37.68  2.30   \n",
       "4  Ubaldo Jimenez  2010      92.3   47.89    50.86     76.33     21.78  2.88   \n",
       "\n",
       "         K9  \n",
       "0  8.936620  \n",
       "1  8.740385  \n",
       "2  9.639252  \n",
       "3  9.114338  \n",
       "4  8.688722  "
      ]
     },
     "execution_count": 47,
     "metadata": {},
     "output_type": "execute_result"
    }
   ],
   "source": [
    "top10s = top10_2010.append([top10_2011,top10_2012,top10_2013,top10_2014,top10_2015])\n",
    "\n",
    "statcast = (statcast_velocity.merge(statcast_inzone,on=['player_name','year'])\n",
    "                             .merge(statcast_outzone,on=['player_name','year'])\n",
    "                             .merge(statcast_fastball,on=['player_name','year'])\n",
    "                             .merge(statcast_offspeed,on=['player_name','year'])\n",
    "                             .merge(top10s,on=['player_name','year']))\n",
    "statcast.head()"
   ]
  },
  {
   "cell_type": "markdown",
   "metadata": {},
   "source": [
    "Would you look at that. Its simple and easy to read.  \n",
    "Now we are officially done with collecting and cleaning the data.  \n",
    "lets move on to visualizing it."
   ]
  },
  {
   "cell_type": "markdown",
   "metadata": {},
   "source": [
    "# Visualization - Graphs"
   ]
  },
  {
   "cell_type": "markdown",
   "metadata": {},
   "source": [
    "Now that we have all the information in on dataframe, this is where the fun begins.  \n",
    "We will make 6 different of the different stats in relation to ERA.  \n",
    "This part can get a little tricky since we are using a loop to create these graphs and drawing a regression line through them.\n",
    "\n",
    "Before we start plotting the data, lets write a linear regression function to help us get the m and b value for drawing a line.  "
   ]
  },
  {
   "cell_type": "code",
   "execution_count": 48,
   "metadata": {
    "collapsed": true
   },
   "outputs": [],
   "source": [
    "def reg_line(df, x, y):\n",
    "    columns = {'velocity':2, 'inzone':3, 'outzone':4, 'fastball':5, 'offspeed':6, 'ERA':7, 'K9':8}\n",
    "    npMatrix = np.matrix(df)\n",
    "    X, Y = npMatrix[:,columns[x]], npMatrix[:,columns[y]]\n",
    "    model = sklearn.linear_model.LinearRegression().fit(X,Y)\n",
    "    m = model.coef_[0]\n",
    "    b = model.intercept_\n",
    "    return m,b"
   ]
  },
  {
   "cell_type": "markdown",
   "metadata": {},
   "source": [
    "Then we can generate the needed m and b value for each of the statistical value vs ERA and putting them in array which will be useful when we draw the graphs inside a loop."
   ]
  },
  {
   "cell_type": "code",
   "execution_count": 49,
   "metadata": {
    "collapsed": false
   },
   "outputs": [],
   "source": [
    "v_m, v_b =  reg_line(statcast, 'velocity', 'ERA')\n",
    "in_m, in_b =  reg_line(statcast, 'inzone', 'ERA')\n",
    "out_m, out_b =  reg_line(statcast, 'outzone', 'ERA')\n",
    "fast_m, fast_b =  reg_line(statcast, 'fastball', 'ERA')\n",
    "off_m, off_b =  reg_line(statcast, 'offspeed', 'ERA')\n",
    "k9_m, k9_b =  reg_line(statcast, 'K9', 'ERA')\n",
    "\n",
    "X = [statcast['velocity'],statcast['inzone'],statcast['outzone'],\n",
    "     statcast['fastball'],statcast['offspeed'],statcast['K9']]\n",
    "Y = [statcast['ERA'],statcast['ERA'],statcast['ERA'],statcast['ERA'],statcast['ERA'],statcast['ERA']]\n",
    "reg = [[v_m,v_b],[in_m,in_b],[out_m,out_b],[fast_m,fast_b],[off_m,off_b],[k9_m,k9_b]]\n",
    "titles = ['Velocity','Pitch inside the zone','Pitch outside the zone','Fastball','Offspeed','Strikeouts per 9innings']"
   ]
  },
  {
   "cell_type": "markdown",
   "metadata": {},
   "source": [
    "Here coems the actual drawing part.  \n",
    "we use the creasing value of idx to make sure the values are drawn seperately.  \n",
    "Using title,xlabel and ylabel to set the corresponding titles for the graphs."
   ]
  },
  {
   "cell_type": "code",
   "execution_count": 50,
   "metadata": {
    "collapsed": false
   },
   "outputs": [
    {
     "data": {
      "image/png": "[encoded data removed]",
      "text/plain": [
       "<matplotlib.figure.Figure at 0x1173bf4e0>"
      ]
     },
     "metadata": {},
     "output_type": "display_data"
    },
    {
     "data": {
      "image/png": "[encoded data removed]",
      "text/plain": [
       "<matplotlib.figure.Figure at 0x113ec16a0>"
      ]
     },
     "metadata": {},
     "output_type": "display_data"
    },
    {
     "data": {
      "image/png": "[encoded data removed]",
      "text/plain": [
       "<matplotlib.figure.Figure at 0x113e2acf8>"
      ]
     },
     "metadata": {},
     "output_type": "display_data"
    },
    {
     "data": {
      "image/png": "[encoded data removed]",
      "text/plain": [
       "<matplotlib.figure.Figure at 0x117678ac8>"
      ]
     },
     "metadata": {},
     "output_type": "display_data"
    },
    {
     "data": {
      "image/png": "[encoded data removed]",
      "text/plain": [
       "<matplotlib.figure.Figure at 0x113ee7f28>"
      ]
     },
     "metadata": {},
     "output_type": "display_data"
    },
    {
     "data": {
      "image/png": "[encoded data removed]",
      "text/plain": [
       "<matplotlib.figure.Figure at 0x117589080>"
      ]
     },
     "metadata": {},
     "output_type": "display_data"
    }
   ],
   "source": [
    "plots = zip(X,Y)\n",
    "def loop_plot(plots):\n",
    "    figs={}\n",
    "    axs={}\n",
    "    for idx,plot in enumerate(plots):\n",
    "        figs[idx]=plt.figure()\n",
    "        axs[idx]=figs[idx].add_subplot(111)\n",
    "        axs[idx].scatter(plot[0],plot[1])\n",
    "        axs[idx].plot(plot[0], plot[0]*reg[idx][0]+reg[idx][1], color=\"red\")\n",
    "        plt.title('ERA vs ' + titles[idx])\n",
    "        plt.xlabel(titles[idx])\n",
    "        plt.ylabel('ERA')\n",
    "    plt.show()\n",
    "\n",
    "loop_plot(plots)"
   ]
  },
  {
   "cell_type": "markdown",
   "metadata": {},
   "source": [
    "Lets look at the graphs and interpert them  \n",
    "  \n",
    "**ERA vs Velocity:** Regression line shows that ERA lowers as Velocity goes up.  \n",
    "**ERA vs Pitches inside the zone:**  Regression line shows that ERA lowers if pitches are inside the zone.  \n",
    "**ERA vs Pitches outside the zone:** Regression line shows that ERA goes up if pitches are outside the zone.  \n",
    "**ERA vs Fastball pitches:** Regression line shows that ERA goes up if more fastballs are used.  \n",
    "**ERA vs Offspeed pitches:** Regression line shows that ERA lowers if more offspeed pitches are used.  \n",
    "**ERA vs K/9:** Regression line shows that ERA lowers as K/9 goes up.  "
   ]
  },
  {
   "cell_type": "markdown",
   "metadata": {},
   "source": [
    "With this imformation lets see if we can predict pitchers with era lower than or equal to 2.5 in 2016.  "
   ]
  },
  {
   "cell_type": "code",
   "execution_count": 51,
   "metadata": {
    "collapsed": false
   },
   "outputs": [
    {
     "name": "stdout",
     "output_type": "stream",
     "text": [
      "Basd on the m and b values we calculated. pitchers with era lower than or equal to 2.5 should have\n",
      "Pitch velocity >= 88.79 MPH\n",
      "pitches inside the zone >= 48.54%\n",
      "Offspeed pitch usage >= 35.91%\n",
      "Strikeouts per 9innings >= 8.34\n"
     ]
    }
   ],
   "source": [
    "velocity = str(round((((2.5-v_b)/(v_m))[0]),2))\n",
    "inzone = str(round((((2.5-in_b)/(in_m))[0]),2))\n",
    "offspeed = str(round((((2.5-off_b)/(off_m))[0]),2))\n",
    "k9 = str(round((((2.5-k9_b)/(k9_m))[0]),2))\n",
    "\n",
    "print (\"Basd on the m and b values we calculated. pitchers with era lower than or equal to 2.5 should have\")\n",
    "print (\"Pitch velocity >= \" + velocity + \" MPH\")\n",
    "print (\"pitches inside the zone >= \" + inzone + \"%\")\n",
    "print (\"Offspeed pitch usage >= \" + offspeed + \"%\")\n",
    "print (\"Strikeouts per 9innings >= \" + k9)"
   ]
  },
  {
   "cell_type": "markdown",
   "metadata": {},
   "source": [
    "Now thats filter the data frame with these requirements and see what happens."
   ]
  },
  {
   "cell_type": "code",
   "execution_count": 52,
   "metadata": {
    "collapsed": false
   },
   "outputs": [
    {
     "data": {
      "text/html": [
       "<div>\n",
       "<table border=\"1\" class=\"dataframe\">\n",
       "  <thead>\n",
       "    <tr style=\"text-align: right;\">\n",
       "      <th></th>\n",
       "      <th>player_name</th>\n",
       "      <th>year</th>\n",
       "      <th>velocity</th>\n",
       "      <th>inzone</th>\n",
       "      <th>outzone</th>\n",
       "      <th>fastball</th>\n",
       "      <th>offspeed</th>\n",
       "      <th>ERA</th>\n",
       "      <th>K9</th>\n",
       "    </tr>\n",
       "  </thead>\n",
       "  <tbody>\n",
       "    <tr>\n",
       "      <th>0</th>\n",
       "      <td>Noah Syndergaard</td>\n",
       "      <td>2016</td>\n",
       "      <td>94.8</td>\n",
       "      <td>49.10</td>\n",
       "      <td>50.90</td>\n",
       "      <td>58.94</td>\n",
       "      <td>40.68</td>\n",
       "      <td>2.60</td>\n",
       "      <td>10.682396</td>\n",
       "    </tr>\n",
       "    <tr>\n",
       "      <th>20</th>\n",
       "      <td>Jacob deGrom</td>\n",
       "      <td>2016</td>\n",
       "      <td>90.9</td>\n",
       "      <td>51.15</td>\n",
       "      <td>48.81</td>\n",
       "      <td>59.90</td>\n",
       "      <td>40.06</td>\n",
       "      <td>3.04</td>\n",
       "      <td>8.695946</td>\n",
       "    </tr>\n",
       "    <tr>\n",
       "      <th>30</th>\n",
       "      <td>Max Scherzer</td>\n",
       "      <td>2016</td>\n",
       "      <td>90.5</td>\n",
       "      <td>51.60</td>\n",
       "      <td>48.26</td>\n",
       "      <td>56.99</td>\n",
       "      <td>42.76</td>\n",
       "      <td>2.96</td>\n",
       "      <td>11.194161</td>\n",
       "    </tr>\n",
       "    <tr>\n",
       "      <th>44</th>\n",
       "      <td>Corey Kluber</td>\n",
       "      <td>2016</td>\n",
       "      <td>90.1</td>\n",
       "      <td>48.54</td>\n",
       "      <td>51.46</td>\n",
       "      <td>52.78</td>\n",
       "      <td>47.01</td>\n",
       "      <td>3.14</td>\n",
       "      <td>9.502326</td>\n",
       "    </tr>\n",
       "    <tr>\n",
       "      <th>46</th>\n",
       "      <td>Justin Verlander</td>\n",
       "      <td>2016</td>\n",
       "      <td>90.0</td>\n",
       "      <td>49.40</td>\n",
       "      <td>50.60</td>\n",
       "      <td>56.73</td>\n",
       "      <td>43.10</td>\n",
       "      <td>3.04</td>\n",
       "      <td>10.040996</td>\n",
       "    </tr>\n",
       "  </tbody>\n",
       "</table>\n",
       "</div>"
      ],
      "text/plain": [
       "         player_name  year  velocity  inzone  outzone  fastball  offspeed  \\\n",
       "0   Noah Syndergaard  2016      94.8   49.10    50.90     58.94     40.68   \n",
       "20      Jacob deGrom  2016      90.9   51.15    48.81     59.90     40.06   \n",
       "30      Max Scherzer  2016      90.5   51.60    48.26     56.99     42.76   \n",
       "44      Corey Kluber  2016      90.1   48.54    51.46     52.78     47.01   \n",
       "46  Justin Verlander  2016      90.0   49.40    50.60     56.73     43.10   \n",
       "\n",
       "     ERA         K9  \n",
       "0   2.60  10.682396  \n",
       "20  3.04   8.695946  \n",
       "30  2.96  11.194161  \n",
       "44  3.14   9.502326  \n",
       "46  3.04  10.040996  "
      ]
     },
     "execution_count": 52,
     "metadata": {},
     "output_type": "execute_result"
    }
   ],
   "source": [
    "temp = (statcast_velocity.merge(statcast_inzone,on=['player_name','year'])\n",
    "                             .merge(statcast_outzone,on=['player_name','year'])\n",
    "                             .merge(statcast_fastball,on=['player_name','year'])\n",
    "                             .merge(statcast_offspeed,on=['player_name','year'])\n",
    "                             .merge(pitcher_stats,on=['player_name','year']))\n",
    "\n",
    "result = temp.loc[temp['year'] == 2016]\n",
    "result = result.loc[result['velocity'] >= float(velocity)]\n",
    "result = result.loc[result['K9'] >= float(k9)]\n",
    "result = result.loc[result['inzone'] >= float(inzone)]\n",
    "result = result.loc[result['offspeed'] >= float(offspeed)]\n",
    "result"
   ]
  },
  {
   "cell_type": "markdown",
   "metadata": {},
   "source": [
    "Seems like our hypothesis was wrong. Even though these players fits the requirements state above. all of their ERA's are above 2.5. \n",
    "  \n",
    "There are a couple of things I learned from this result.  \n",
    "1. Our sample size was too small, using just top 10 lowest ERA pitchers from 2010 to 2015 give us only 60 samples.  \n",
    "2. There might be more variables to consider, such as opponents batting average. Which leads me to think that maybe the data should've been split into American League and National League, since American League has a DH position that might lead to pitchers having higher ERA.  \n",
    "3. Whether the pitch was inside or outside the zome might not have that much to do with ERA, other things such as Ball Movement might have more to do with it since that could lead to striking out more batters.\n",
    "  \n",
    "  "
   ]
  },
  {
   "cell_type": "markdown",
   "metadata": {},
   "source": [
    "# Conclusion "
   ]
  },
  {
   "cell_type": "markdown",
   "metadata": {},
   "source": [
    "There are a lot more to consider if I want to accurately predict pitcher's ERA than I initially thought.  \n",
    "Fortunately for MLB's statcast tool, I will be able to try out more statistical value to hopefully come up with a better solution and equation for this task.  \n",
    "  \n",
    "Thank you for reading through my tutorial.  \n",
    "It was a great experience for me to pratice the material that I leanred from my data science class.  \n",
    "Hopefully this tutorial will help you get started on your journey as a beginner data scientist and become a better fantasy baseball player. "
   ]
  }
 ],
 "metadata": {
  "kernelspec": {
   "display_name": "Python 3",
   "language": "python",
   "name": "python3"
  },
  "language_info": {
   "codemirror_mode": {
    "name": "ipython",
    "version": 3
   },
   "file_extension": ".py",
   "mimetype": "text/x-python",
   "name": "python",
   "nbconvert_exporter": "python",
   "pygments_lexer": "ipython3",
   "version": "3.6.0"
  }
 },
 "nbformat": 4,
 "nbformat_minor": 2
}
