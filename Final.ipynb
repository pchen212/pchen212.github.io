{
 "cells": [
  {
   "cell_type": "markdown",
   "metadata": {},
   "source": [
    "# MLB - Can you predict top 10 lowest ERA pitchers?"
   ]
  },
  {
   "cell_type": "markdown",
   "metadata": {},
   "source": [
    "# Introduction"
   ]
  },
  {
   "cell_type": "markdown",
   "metadata": {},
   "source": [
    "In this tutorial I will take you through some basic steps to process baseball statistics.  \n",
    "Which includes tasks like importing libraries, collecting data, cleaning up the data and drawing graphs.  \n",
    "Statistics is very important in the world of baseball, for example \"Moneyball\" the book and film which were made based off of how well the Oakland A's did with an extremely low budget because the manager assembled a team based on statistical values of the players.  \n",
    "  \n",
    "This is also very true for Fanyasy Baseball players such as myself. It's important to study players' past perfomences and predict who will continue to perform well and who to avoid when you are drafting.  \n",
    "  \n",
    "Major Leauge Baseball is constantly looking for new technologies to track different types of statistical values.  \n",
    "In the year 2008, MLB started to implimented a tool called \"Statcast\", Statcast is a high-speed, high-accuracy, automated tool developed to analyze player movements and athletic abilities.  \n",
    "This tracks information like, pitch speed, types of pitch, rotation speed, hitting average against individual pitchers, catch probablility and hundres more.  \n",
    "  \n",
    "The goal for this tutorial is to look at top 10 pitchers with the lowrst ERA from year 2010 to 2015 and study the following stats:  \n",
    "* Pitch Velocity\n",
    "* Pitch percentage inside the zone\n",
    "* Pitches percentage outside the zone\n",
    "* Fastball thrown percentage\n",
    "* Offspeed thrown percentage\n",
    "* Strikeouts per 9 innings (K/9) \n",
    "\n",
    "and see if we can use these values to predict the top 10 pitchers with the lowest ERA in 2016."
   ]
  },
  {
   "cell_type": "markdown",
   "metadata": {},
   "source": [
    "# Tutorial content"
   ]
  },
  {
   "cell_type": "markdown",
   "metadata": {},
   "source": [
    "In this tutorial, we will use dataset provided by <a href='http://www.seanlahman.com/baseball-archive/statistics/'>Sean Lahman</a>. Sean's dataset provides detailed information from team franchises to individual player performences. Today we will be using ERA, Strikeouts and Innings pitched from his dataset.  \n",
    "  \n",
    "We will also use another dataset from <a = href=\"https://baseballsavant.mlb.com/statcast_search\">Baseball Savant</a>. This website allows you to look up statistics collected by MLB's statcast tool. We will collect the stats mentioned in the introduction form this website.  \n",
    "  \n",
    "**Table Content**  \n",
    "  "
   ]
  },
  {
   "cell_type": "markdown",
   "metadata": {},
   "source": [
    "# Imports"
   ]
  },
  {
   "cell_type": "markdown",
   "metadata": {},
   "source": [
    "For this tutorial we will use the following libraries to help us with our prediction.  \n",
    "You will also need several csv files and asqlite file, which you can get from the links below.  \n"
   ]
  },
  {
   "cell_type": "code",
   "execution_count": 679,
   "metadata": {
    "collapsed": true
   },
   "outputs": [],
   "source": [
    "import pandas as pd\n",
    "import sqlite3\n",
    "import matplotlib.pyplot as plt\n",
    "import statsmodels.formula.api as smf\n",
    "import numpy as np"
   ]
  },
  {
   "cell_type": "markdown",
   "metadata": {},
   "source": [
    "# Loading Data"
   ]
  },
  {
   "cell_type": "code",
   "execution_count": 669,
   "metadata": {
    "collapsed": false,
    "scrolled": false
   },
   "outputs": [
    {
     "data": {
      "text/html": [
       "<div>\n",
       "<table border=\"1\" class=\"dataframe\">\n",
       "  <thead>\n",
       "    <tr style=\"text-align: right;\">\n",
       "      <th></th>\n",
       "      <th>player_name</th>\n",
       "      <th>ERA</th>\n",
       "      <th>year</th>\n",
       "      <th>K9</th>\n",
       "    </tr>\n",
       "  </thead>\n",
       "  <tbody>\n",
       "    <tr>\n",
       "      <th>0</th>\n",
       "      <td>Felix Hernandez</td>\n",
       "      <td>2.27</td>\n",
       "      <td>2010</td>\n",
       "      <td>8.363151</td>\n",
       "    </tr>\n",
       "    <tr>\n",
       "      <th>1</th>\n",
       "      <td>Josh Johnson</td>\n",
       "      <td>2.30</td>\n",
       "      <td>2010</td>\n",
       "      <td>9.114338</td>\n",
       "    </tr>\n",
       "    <tr>\n",
       "      <th>2</th>\n",
       "      <td>Clay Buchholz</td>\n",
       "      <td>2.33</td>\n",
       "      <td>2010</td>\n",
       "      <td>6.218810</td>\n",
       "    </tr>\n",
       "    <tr>\n",
       "      <th>3</th>\n",
       "      <td>Adam Wainwright</td>\n",
       "      <td>2.42</td>\n",
       "      <td>2010</td>\n",
       "      <td>8.322721</td>\n",
       "    </tr>\n",
       "    <tr>\n",
       "      <th>4</th>\n",
       "      <td>Roy Halladay</td>\n",
       "      <td>2.44</td>\n",
       "      <td>2010</td>\n",
       "      <td>7.863032</td>\n",
       "    </tr>\n",
       "  </tbody>\n",
       "</table>\n",
       "</div>"
      ],
      "text/plain": [
       "       player_name   ERA  year        K9\n",
       "0  Felix Hernandez  2.27  2010  8.363151\n",
       "1     Josh Johnson  2.30  2010  9.114338\n",
       "2    Clay Buchholz  2.33  2010  6.218810\n",
       "3  Adam Wainwright  2.42  2010  8.322721\n",
       "4     Roy Halladay  2.44  2010  7.863032"
      ]
     },
     "execution_count": 669,
     "metadata": {},
     "output_type": "execute_result"
    }
   ],
   "source": [
    "lahman_2016 = 'lahman2016.sqlite'\n",
    "conn = sqlite3.connect(lahman_2016)\n",
    "\n",
    "pitcher_query = \"\"\"SELECT (MASTER.nameFirst||\\\" \\\"||MASTER.nameLast) AS player_name,ERA, yearID AS year,\n",
    "                (9*(SO/(IPOuts/3.0))) AS K9\n",
    "                   FROM Pitching, MASTER\n",
    "                   WHERE Pitching.playerID == MASTER.playerID AND Pitching.GS >= 20 AND\n",
    "                         Pitching.yearID >=2010\n",
    "                   ORDER BY yearID, ERA\"\"\"\n",
    "\n",
    "pitcher_stats = pd.read_sql(pitcher_query, conn)\n",
    "pitcher_stats.ix[pitcher_stats['player_name'] == 'R. A. Dickey', ['player_name']] = ['R.A. Dickey']\n",
    "pitcher_stats.head()"
   ]
  },
  {
   "cell_type": "code",
   "execution_count": 670,
   "metadata": {
    "collapsed": false
   },
   "outputs": [],
   "source": [
    "def top10(year):\n",
    "    sub_df = pitcher_stats.loc[pitcher_stats['year'] == year].head(10)\n",
    "    return sub_df\n",
    "\n",
    "def clean_df(filename, columns, rename_target, rename_value):\n",
    "    read = pd.read_csv(filename+\".csv\")\n",
    "    temp = read[columns].rename(columns={rename_target : rename_value})\n",
    "    return temp\n",
    "top10_2010 = top10(2010)\n",
    "top10_2011 = top10(2011)\n",
    "top10_2012 = top10(2012)\n",
    "top10_2013 = top10(2013)\n",
    "top10_2014 = top10(2014)\n",
    "top10_2015 = top10(2015)\n",
    "\n",
    "top10s = top10_2010.append([top10_2011,top10_2012,top10_2013,top10_2014,top10_2015])"
   ]
  },
  {
   "cell_type": "code",
   "execution_count": 671,
   "metadata": {
    "collapsed": false,
    "scrolled": false
   },
   "outputs": [
    {
     "data": {
      "text/html": [
       "<div>\n",
       "<table border=\"1\" class=\"dataframe\">\n",
       "  <thead>\n",
       "    <tr style=\"text-align: right;\">\n",
       "      <th></th>\n",
       "      <th>player_name</th>\n",
       "      <th>year</th>\n",
       "      <th>velocity</th>\n",
       "      <th>inzone</th>\n",
       "      <th>outzone</th>\n",
       "      <th>fastball</th>\n",
       "      <th>offspeed</th>\n",
       "      <th>ERA</th>\n",
       "      <th>K9</th>\n",
       "    </tr>\n",
       "  </thead>\n",
       "  <tbody>\n",
       "    <tr>\n",
       "      <th>0</th>\n",
       "      <td>Matt Harvey</td>\n",
       "      <td>2015</td>\n",
       "      <td>93.2</td>\n",
       "      <td>51.82</td>\n",
       "      <td>48.18</td>\n",
       "      <td>60.76</td>\n",
       "      <td>38.88</td>\n",
       "      <td>2.71</td>\n",
       "      <td>8.936620</td>\n",
       "    </tr>\n",
       "    <tr>\n",
       "      <th>1</th>\n",
       "      <td>Gerrit Cole</td>\n",
       "      <td>2015</td>\n",
       "      <td>93.0</td>\n",
       "      <td>50.32</td>\n",
       "      <td>49.68</td>\n",
       "      <td>66.90</td>\n",
       "      <td>32.91</td>\n",
       "      <td>2.60</td>\n",
       "      <td>8.740385</td>\n",
       "    </tr>\n",
       "    <tr>\n",
       "      <th>2</th>\n",
       "      <td>Matt Harvey</td>\n",
       "      <td>2013</td>\n",
       "      <td>92.7</td>\n",
       "      <td>52.65</td>\n",
       "      <td>47.31</td>\n",
       "      <td>56.77</td>\n",
       "      <td>43.05</td>\n",
       "      <td>2.27</td>\n",
       "      <td>9.639252</td>\n",
       "    </tr>\n",
       "    <tr>\n",
       "      <th>3</th>\n",
       "      <td>Josh Johnson</td>\n",
       "      <td>2010</td>\n",
       "      <td>92.7</td>\n",
       "      <td>48.69</td>\n",
       "      <td>51.14</td>\n",
       "      <td>61.78</td>\n",
       "      <td>37.68</td>\n",
       "      <td>2.30</td>\n",
       "      <td>9.114338</td>\n",
       "    </tr>\n",
       "    <tr>\n",
       "      <th>4</th>\n",
       "      <td>Ubaldo Jimenez</td>\n",
       "      <td>2010</td>\n",
       "      <td>92.3</td>\n",
       "      <td>47.89</td>\n",
       "      <td>50.86</td>\n",
       "      <td>76.33</td>\n",
       "      <td>21.78</td>\n",
       "      <td>2.88</td>\n",
       "      <td>8.688722</td>\n",
       "    </tr>\n",
       "  </tbody>\n",
       "</table>\n",
       "</div>"
      ],
      "text/plain": [
       "      player_name  year  velocity  inzone  outzone  fastball  offspeed   ERA  \\\n",
       "0     Matt Harvey  2015      93.2   51.82    48.18     60.76     38.88  2.71   \n",
       "1     Gerrit Cole  2015      93.0   50.32    49.68     66.90     32.91  2.60   \n",
       "2     Matt Harvey  2013      92.7   52.65    47.31     56.77     43.05  2.27   \n",
       "3    Josh Johnson  2010      92.7   48.69    51.14     61.78     37.68  2.30   \n",
       "4  Ubaldo Jimenez  2010      92.3   47.89    50.86     76.33     21.78  2.88   \n",
       "\n",
       "         K9  \n",
       "0  8.936620  \n",
       "1  8.740385  \n",
       "2  9.639252  \n",
       "3  9.114338  \n",
       "4  8.688722  "
      ]
     },
     "execution_count": 671,
     "metadata": {},
     "output_type": "execute_result"
    }
   ],
   "source": [
    "statcast_velocity = clean_df('statcast_velocity',['player_name','year','velocity'],'','')\n",
    "statcast_inzone = clean_df('statcast_inzone',['player_name','year','pitch_percent'],'pitch_percent', 'inzone')\n",
    "statcast_outzone = clean_df('statcast_outzone',['player_name','year','pitch_percent'],'pitch_percent', 'outzone')\n",
    "statcast_fastball = clean_df('statcast_fastball',['player_name','year','pitch_percent'],'pitch_percent', 'fastball')\n",
    "statcast_offspeed = clean_df('statcast_offspeed',['player_name','year','pitch_percent'],'pitch_percent', 'offspeed')\n",
    "\n",
    "statcast = (statcast_velocity.merge(statcast_inzone,on=['player_name','year'])\n",
    "                             .merge(statcast_outzone,on=['player_name','year'])\n",
    "                             .merge(statcast_fastball,on=['player_name','year'])\n",
    "                             .merge(statcast_offspeed,on=['player_name','year'])\n",
    "                             .merge(top10s,on=['player_name','year']))\n",
    "statcast.head()"
   ]
  },
  {
   "cell_type": "code",
   "execution_count": 672,
   "metadata": {
    "collapsed": false
   },
   "outputs": [
    {
     "data": {
      "image/png": "[encoded data removed]",
      "text/plain": [
       "<matplotlib.figure.Figure at 0x1304bbef0>"
      ]
     },
     "metadata": {},
     "output_type": "display_data"
    },
    {
     "data": {
      "image/png": "[encoded data removed]",
      "text/plain": [
       "<matplotlib.figure.Figure at 0x130267080>"
      ]
     },
     "metadata": {},
     "output_type": "display_data"
    },
    {
     "data": {
      "image/png": "[encoded data removed]",
      "text/plain": [
       "<matplotlib.figure.Figure at 0x12fdd8358>"
      ]
     },
     "metadata": {},
     "output_type": "display_data"
    },
    {
     "data": {
      "image/png": "[encoded data removed]",
      "text/plain": [
       "<matplotlib.figure.Figure at 0x12fd04588>"
      ]
     },
     "metadata": {},
     "output_type": "display_data"
    },
    {
     "data": {
      "image/png": "[encoded data removed]",
      "text/plain": [
       "<matplotlib.figure.Figure at 0x1300e5390>"
      ]
     },
     "metadata": {},
     "output_type": "display_data"
    },
    {
     "data": {
      "image/png": "[encoded data removed]",
      "text/plain": [
       "<matplotlib.figure.Figure at 0x12fdcbcf8>"
      ]
     },
     "metadata": {},
     "output_type": "display_data"
    }
   ],
   "source": [
    "columns = {'velocity':2, 'inzone':3, 'outzone':4, 'fastball':5, 'offspeed':6, 'ERA':7, 'K9':8}\n",
    "titles = ['Velocity','Pitch in the zone','Pitch outside the zone','Fastball','Offspeed','Strikeouts per 9innings']\n",
    "\n",
    "%matplotlib inline\n",
    "\n",
    "def reg_line(df, x, y):\n",
    "    npMatrix = np.matrix(df)\n",
    "    X, Y = npMatrix[:,columns[x]], npMatrix[:,columns[y]]\n",
    "    model = linear_model.LinearRegression().fit(X,Y)\n",
    "    m = model.coef_[0]\n",
    "    b = model.intercept_\n",
    "    return m,b\n",
    "\n",
    "v_m, v_b =  reg_line(statcast, 'velocity', 'ERA')\n",
    "in_m, in_b =  reg_line(statcast, 'inzone', 'ERA')\n",
    "out_m, out_b =  reg_line(statcast, 'outzone', 'ERA')\n",
    "fast_m, fast_b =  reg_line(statcast, 'fastball', 'ERA')\n",
    "off_m, off_b =  reg_line(statcast, 'offspeed', 'ERA')\n",
    "k9_m, k9_b =  reg_line(statcast, 'K9', 'ERA')\n",
    "\n",
    "X = [statcast['velocity'],statcast['inzone'],statcast['outzone'],\n",
    "     statcast['fastball'],statcast['offspeed'],statcast['K9']]\n",
    "Y = [statcast['ERA'],statcast['ERA'],statcast['ERA'],statcast['ERA'],statcast['ERA'],statcast['ERA']]\n",
    "reg = [[v_m,v_b],[in_m,in_b],[out_m,out_b],[fast_m,fast_b],[off_m,off_b],[k9_m,k9_b]]\n",
    "\n",
    "plots = zip(X,Y)\n",
    "def loop_plot(plots):\n",
    "    figs={}\n",
    "    axs={}\n",
    "    for idx,plot in enumerate(plots):\n",
    "        figs[idx]=plt.figure()\n",
    "        axs[idx]=figs[idx].add_subplot(111)\n",
    "        axs[idx].scatter(plot[0],plot[1])\n",
    "        axs[idx].plot(plot[0], plot[0]*reg[idx][0]+reg[idx][1], color=\"red\")\n",
    "        plt.title('ERA vs ' + titles[idx])\n",
    "        plt.xlabel(titles[idx])\n",
    "        plt.ylabel('ERA')\n",
    "    plt.show()\n",
    "\n",
    "loop_plot(plots)"
   ]
  },
  {
   "cell_type": "code",
   "execution_count": null,
   "metadata": {
    "collapsed": false
   },
   "outputs": [],
   "source": []
  },
  {
   "cell_type": "code",
   "execution_count": 673,
   "metadata": {
    "collapsed": false
   },
   "outputs": [
    {
     "name": "stdout",
     "output_type": "stream",
     "text": [
      "pitch velocity > 88.91 MPH\n",
      "pitches outside the zone < 49.58%\n",
      "offspeed pitch usage > 45.43%\n",
      "Strikeouts per 9innings > 8.44\n"
     ]
    }
   ],
   "source": [
    "velocity = str(round((((2.5-v_b)/(v_m))[0]),2))\n",
    "outzone = str(round((((2.5-out_b)/(out_m))[0]),2))\n",
    "offspeed = str(round((((2.5-off_b)/(off_m))[0]),2))\n",
    "k9 = str(round((((2.5-k9_b)/(k9_m))[0]),2))\n",
    "\n",
    "print (\"pitch velocity > \" + velocity + \" MPH\")\n",
    "print (\"pitches outside the zone < \" + outzone + \"%\")\n",
    "print (\"offspeed pitch usage > \" + offspeed + \"%\")\n",
    "print (\"Strikeouts per 9innings > \" + k9)\n",
    "\n"
   ]
  },
  {
   "cell_type": "code",
   "execution_count": 678,
   "metadata": {
    "collapsed": false
   },
   "outputs": [
    {
     "data": {
      "text/html": [
       "<div>\n",
       "<table border=\"1\" class=\"dataframe\">\n",
       "  <thead>\n",
       "    <tr style=\"text-align: right;\">\n",
       "      <th></th>\n",
       "      <th>player_name</th>\n",
       "      <th>year</th>\n",
       "      <th>velocity</th>\n",
       "      <th>inzone</th>\n",
       "      <th>outzone</th>\n",
       "      <th>fastball</th>\n",
       "      <th>offspeed</th>\n",
       "      <th>ERA</th>\n",
       "      <th>K9</th>\n",
       "    </tr>\n",
       "  </thead>\n",
       "  <tbody>\n",
       "    <tr>\n",
       "      <th>28</th>\n",
       "      <td>Corey Kluber</td>\n",
       "      <td>2014</td>\n",
       "      <td>90.5</td>\n",
       "      <td>50.80</td>\n",
       "      <td>49.09</td>\n",
       "      <td>52.20</td>\n",
       "      <td>47.46</td>\n",
       "      <td>2.44</td>\n",
       "      <td>10.272984</td>\n",
       "    </tr>\n",
       "    <tr>\n",
       "      <th>39</th>\n",
       "      <td>Corey Kluber</td>\n",
       "      <td>2015</td>\n",
       "      <td>90.2</td>\n",
       "      <td>50.61</td>\n",
       "      <td>49.39</td>\n",
       "      <td>52.35</td>\n",
       "      <td>47.31</td>\n",
       "      <td>3.49</td>\n",
       "      <td>9.932432</td>\n",
       "    </tr>\n",
       "    <tr>\n",
       "      <th>75</th>\n",
       "      <td>Chris Sale</td>\n",
       "      <td>2014</td>\n",
       "      <td>89.2</td>\n",
       "      <td>51.33</td>\n",
       "      <td>48.60</td>\n",
       "      <td>51.40</td>\n",
       "      <td>48.42</td>\n",
       "      <td>2.17</td>\n",
       "      <td>10.758621</td>\n",
       "    </tr>\n",
       "    <tr>\n",
       "      <th>82</th>\n",
       "      <td>Clayton Kershaw</td>\n",
       "      <td>2015</td>\n",
       "      <td>89.0</td>\n",
       "      <td>52.46</td>\n",
       "      <td>47.54</td>\n",
       "      <td>53.99</td>\n",
       "      <td>45.78</td>\n",
       "      <td>2.13</td>\n",
       "      <td>11.643266</td>\n",
       "    </tr>\n",
       "  </tbody>\n",
       "</table>\n",
       "</div>"
      ],
      "text/plain": [
       "        player_name  year  velocity  inzone  outzone  fastball  offspeed  \\\n",
       "28     Corey Kluber  2014      90.5   50.80    49.09     52.20     47.46   \n",
       "39     Corey Kluber  2015      90.2   50.61    49.39     52.35     47.31   \n",
       "75       Chris Sale  2014      89.2   51.33    48.60     51.40     48.42   \n",
       "82  Clayton Kershaw  2015      89.0   52.46    47.54     53.99     45.78   \n",
       "\n",
       "     ERA         K9  \n",
       "28  2.44  10.272984  \n",
       "39  3.49   9.932432  \n",
       "75  2.17  10.758621  \n",
       "82  2.13  11.643266  "
      ]
     },
     "execution_count": 678,
     "metadata": {},
     "output_type": "execute_result"
    }
   ],
   "source": [
    "temp = (statcast_velocity.merge(statcast_inzone,on=['player_name','year'])\n",
    "                             .merge(statcast_outzone,on=['player_name','year'])\n",
    "                             .merge(statcast_fastball,on=['player_name','year'])\n",
    "                             .merge(statcast_offspeed,on=['player_name','year'])\n",
    "                             .merge(pitcher_stats,on=['player_name','year']))\n",
    "\n",
    "new = temp\n",
    "new = new.loc[new['velocity'] >= float(velocity)]\n",
    "new = new.loc[new['K9'] >= float(k9)]\n",
    "new = new.loc[new['outzone'] <= float(outzone)]\n",
    "new = new.loc[new['offspeed'] >= float(offspeed)]\n",
    "new"
   ]
  },
  {
   "cell_type": "code",
   "execution_count": null,
   "metadata": {
    "collapsed": true
   },
   "outputs": [],
   "source": []
  },
  {
   "cell_type": "code",
   "execution_count": 675,
   "metadata": {
    "collapsed": false
   },
   "outputs": [
    {
     "data": {
      "text/plain": [
       "88.69666666666669"
      ]
     },
     "execution_count": 675,
     "metadata": {},
     "output_type": "execute_result"
    }
   ],
   "source": [
    "statcast['velocity'].mean()"
   ]
  },
  {
   "cell_type": "code",
   "execution_count": null,
   "metadata": {
    "collapsed": true
   },
   "outputs": [],
   "source": []
  },
  {
   "cell_type": "code",
   "execution_count": null,
   "metadata": {
    "collapsed": true
   },
   "outputs": [],
   "source": []
  },
  {
   "cell_type": "code",
   "execution_count": null,
   "metadata": {
    "collapsed": true
   },
   "outputs": [],
   "source": []
  },
  {
   "cell_type": "code",
   "execution_count": null,
   "metadata": {
    "collapsed": true
   },
   "outputs": [],
   "source": []
  },
  {
   "cell_type": "code",
   "execution_count": null,
   "metadata": {
    "collapsed": true
   },
   "outputs": [],
   "source": []
  },
  {
   "cell_type": "code",
   "execution_count": null,
   "metadata": {
    "collapsed": true
   },
   "outputs": [],
   "source": []
  },
  {
   "cell_type": "code",
   "execution_count": null,
   "metadata": {
    "collapsed": true
   },
   "outputs": [],
   "source": []
  },
  {
   "cell_type": "code",
   "execution_count": null,
   "metadata": {
    "collapsed": true
   },
   "outputs": [],
   "source": []
  }
 ],
 "metadata": {
  "kernelspec": {
   "display_name": "Python 3",
   "language": "python",
   "name": "python3"
  },
  "language_info": {
   "codemirror_mode": {
    "name": "ipython",
    "version": 3
   },
   "file_extension": ".py",
   "mimetype": "text/x-python",
   "name": "python",
   "nbconvert_exporter": "python",
   "pygments_lexer": "ipython3",
   "version": "3.6.0"
  }
 },
 "nbformat": 4,
 "nbformat_minor": 2
}
